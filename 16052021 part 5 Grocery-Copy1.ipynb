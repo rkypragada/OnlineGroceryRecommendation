{
 "cells": [
  {
   "cell_type": "code",
   "execution_count": 1,
   "metadata": {
    "ExecuteTime": {
     "end_time": "2019-02-12T00:03:23.959432Z",
     "start_time": "2019-02-12T00:03:21.878502Z"
    }
   },
   "outputs": [],
   "source": [
    "import matplotlib.pyplot as plt\n",
    "import seaborn as sns\n",
    "from collections import OrderedDict\n",
    "import pandas as pd\n",
    "import numpy as np\n",
    "from sklearn.linear_model import LogisticRegression\n",
    "from sklearn.metrics import f1_score, recall_score, precision_score, confusion_matrix, precision_recall_curve\n",
    "from sklearn.ensemble import RandomForestClassifier\n",
    "import xgboost as xgb"
   ]
  },
  {
   "cell_type": "code",
   "execution_count": 2,
   "metadata": {
    "ExecuteTime": {
     "end_time": "2019-02-12T00:03:51.602002Z",
     "start_time": "2019-02-12T00:03:23.964622Z"
    }
   },
   "outputs": [],
   "source": [
    "daataframe_aisles = pd.read_csv('aisles.csv')\n",
    "daataframe_departments = pd.read_csv('departments.csv')\n",
    "daataframe_order_products_prior = pd.read_csv('orderproductsprior.csv')\n",
    "daataframe_order_products_train = pd.read_csv('orderproductstrain.csv')\n",
    "daataframe_orders = pd.read_csv('orders.csv')\n",
    "daataframe_products = pd.read_csv('products.csv')"
   ]
  },
  {
   "cell_type": "code",
   "execution_count": 4,
   "metadata": {
    "ExecuteTime": {
     "end_time": "2019-02-12T00:03:51.694902Z",
     "start_time": "2019-02-12T00:03:51.620404Z"
    }
   },
   "outputs": [
    {
     "data": {
      "text/plain": [
       "(32434489, 4)"
      ]
     },
     "execution_count": 4,
     "metadata": {},
     "output_type": "execute_result"
    }
   ],
   "source": [
    "daataframe_order_products_prior.shape"
   ]
  },
  {
   "cell_type": "code",
   "execution_count": 6,
   "metadata": {
    "ExecuteTime": {
     "end_time": "2019-02-12T00:03:51.755392Z",
     "start_time": "2019-02-12T00:03:51.714331Z"
    }
   },
   "outputs": [
    {
     "data": {
      "text/plain": [
       "(1384617, 4)"
      ]
     },
     "execution_count": 6,
     "metadata": {},
     "output_type": "execute_result"
    }
   ],
   "source": [
    "daataframe_order_products_train.shape"
   ]
  },
  {
   "cell_type": "code",
   "execution_count": 8,
   "metadata": {
    "ExecuteTime": {
     "end_time": "2019-02-12T00:03:51.806036Z",
     "start_time": "2019-02-12T00:03:51.793660Z"
    }
   },
   "outputs": [
    {
     "data": {
      "text/plain": [
       "(3421083, 7)"
      ]
     },
     "execution_count": 8,
     "metadata": {},
     "output_type": "execute_result"
    }
   ],
   "source": [
    "daataframe_orders.shape"
   ]
  },
  {
   "cell_type": "code",
   "execution_count": 9,
   "metadata": {
    "ExecuteTime": {
     "end_time": "2019-02-12T00:03:51.828894Z",
     "start_time": "2019-02-12T00:03:51.811600Z"
    }
   },
   "outputs": [],
   "source": [
    "def Get_Subset_Data(dataframe, test_size=.1, seed=24):\n",
    "\n",
    "    rs = np.random.RandomState(seed)\n",
    "    \n",
    "    total_users = dataframe['user_id'].unique() \n",
    "    Tst_Urs = rs.choice(total_users, \n",
    "                           size=int(total_users.shape[0] * test_size), \n",
    "                           replace=False)\n",
    "\n",
    "\n",
    "    dataframe_subset = dataframe[dataframe['user_id'].isin(Tst_Urs)]  \n",
    "    \n",
    "    return dataframe_subset"
   ]
  },
  {
   "cell_type": "code",
   "execution_count": 12,
   "metadata": {
    "ExecuteTime": {
     "end_time": "2019-02-12T00:03:52.309559Z",
     "start_time": "2019-02-12T00:03:51.833798Z"
    }
   },
   "outputs": [],
   "source": [
    "daataframe_orders = Get_Subset_Data(daataframe_orders)"
   ]
  },
  {
   "cell_type": "code",
   "execution_count": 14,
   "metadata": {
    "ExecuteTime": {
     "end_time": "2019-02-12T00:04:00.609590Z",
     "start_time": "2019-02-12T00:03:52.313168Z"
    }
   },
   "outputs": [],
   "source": [
    "daataframe_order_products_prior = daataframe_order_products_prior.merge(daataframe_orders.drop('eval_set', axis = 1), on = 'order_id')\n",
    "daataframe_order_products_train = daataframe_order_products_train.merge(daataframe_orders.drop('eval_set', axis = 1), on = 'order_id')"
   ]
  },
  {
   "cell_type": "code",
   "execution_count": 15,
   "metadata": {
    "ExecuteTime": {
     "end_time": "2019-02-12T00:04:00.632263Z",
     "start_time": "2019-02-12T00:04:00.613291Z"
    }
   },
   "outputs": [
    {
     "data": {
      "text/plain": [
       "(3216994, 9)"
      ]
     },
     "execution_count": 15,
     "metadata": {},
     "output_type": "execute_result"
    }
   ],
   "source": [
    "daataframe_order_products_prior.shape"
   ]
  },
  {
   "cell_type": "code",
   "execution_count": 16,
   "metadata": {
    "ExecuteTime": {
     "end_time": "2019-02-12T00:04:00.660274Z",
     "start_time": "2019-02-12T00:04:00.649738Z"
    }
   },
   "outputs": [
    {
     "data": {
      "text/plain": [
       "(140747, 9)"
      ]
     },
     "execution_count": 16,
     "metadata": {},
     "output_type": "execute_result"
    }
   ],
   "source": [
    "daataframe_order_products_train.shape"
   ]
  },
  {
   "cell_type": "code",
   "execution_count": 17,
   "metadata": {
    "ExecuteTime": {
     "end_time": "2019-02-12T00:04:00.677869Z",
     "start_time": "2019-02-12T00:04:00.664554Z"
    }
   },
   "outputs": [
    {
     "data": {
      "text/plain": [
       "(340378, 7)"
      ]
     },
     "execution_count": 17,
     "metadata": {},
     "output_type": "execute_result"
    }
   ],
   "source": [
    "daataframe_orders.shape"
   ]
  },
  {
   "cell_type": "code",
   "execution_count": 19,
   "metadata": {
    "ExecuteTime": {
     "end_time": "2019-02-12T00:04:02.836556Z",
     "start_time": "2019-02-12T00:04:00.697110Z"
    }
   },
   "outputs": [
    {
     "data": {
      "text/html": [
       "<div>\n",
       "<style scoped>\n",
       "    .dataframe tbody tr th:only-of-type {\n",
       "        vertical-align: middle;\n",
       "    }\n",
       "\n",
       "    .dataframe tbody tr th {\n",
       "        vertical-align: top;\n",
       "    }\n",
       "\n",
       "    .dataframe thead th {\n",
       "        text-align: right;\n",
       "    }\n",
       "</style>\n",
       "<table border=\"1\" class=\"dataframe\">\n",
       "  <thead>\n",
       "    <tr style=\"text-align: right;\">\n",
       "      <th></th>\n",
       "      <th>product_id</th>\n",
       "      <th>user_id</th>\n",
       "      <th>user_product_total_orders</th>\n",
       "    </tr>\n",
       "  </thead>\n",
       "  <tbody>\n",
       "    <tr>\n",
       "      <th>0</th>\n",
       "      <td>1</td>\n",
       "      <td>1494</td>\n",
       "      <td>3</td>\n",
       "    </tr>\n",
       "    <tr>\n",
       "      <th>1</th>\n",
       "      <td>1</td>\n",
       "      <td>3010</td>\n",
       "      <td>1</td>\n",
       "    </tr>\n",
       "    <tr>\n",
       "      <th>5</th>\n",
       "      <td>1</td>\n",
       "      <td>10315</td>\n",
       "      <td>1</td>\n",
       "    </tr>\n",
       "    <tr>\n",
       "      <th>6</th>\n",
       "      <td>1</td>\n",
       "      <td>11119</td>\n",
       "      <td>1</td>\n",
       "    </tr>\n",
       "    <tr>\n",
       "      <th>7</th>\n",
       "      <td>1</td>\n",
       "      <td>12892</td>\n",
       "      <td>1</td>\n",
       "    </tr>\n",
       "    <tr>\n",
       "      <th>8</th>\n",
       "      <td>1</td>\n",
       "      <td>18586</td>\n",
       "      <td>2</td>\n",
       "    </tr>\n",
       "    <tr>\n",
       "      <th>10</th>\n",
       "      <td>1</td>\n",
       "      <td>20687</td>\n",
       "      <td>1</td>\n",
       "    </tr>\n",
       "    <tr>\n",
       "      <th>11</th>\n",
       "      <td>1</td>\n",
       "      <td>21219</td>\n",
       "      <td>1</td>\n",
       "    </tr>\n",
       "    <tr>\n",
       "      <th>13</th>\n",
       "      <td>1</td>\n",
       "      <td>24324</td>\n",
       "      <td>6</td>\n",
       "    </tr>\n",
       "    <tr>\n",
       "      <th>14</th>\n",
       "      <td>1</td>\n",
       "      <td>30618</td>\n",
       "      <td>3</td>\n",
       "    </tr>\n",
       "  </tbody>\n",
       "</table>\n",
       "</div>"
      ],
      "text/plain": [
       "    product_id  user_id  user_product_total_orders\n",
       "0            1     1494                          3\n",
       "1            1     3010                          1\n",
       "5            1    10315                          1\n",
       "6            1    11119                          1\n",
       "7            1    12892                          1\n",
       "8            1    18586                          2\n",
       "10           1    20687                          1\n",
       "11           1    21219                          1\n",
       "13           1    24324                          6\n",
       "14           1    30618                          3"
      ]
     },
     "execution_count": 19,
     "metadata": {},
     "output_type": "execute_result"
    }
   ],
   "source": [
    "daataframe_user_product = (daataframe_order_products_prior.groupby(['product_id','user_id'],as_index=False) \n",
    "                                          .agg({'order_id':'count'}) \n",
    "                                          .rename(columns={'order_id':'user_product_total_orders'}))\n",
    "\n",
    "Training_IDs = daataframe_order_products_train['user_id'].unique() \n",
    "daataframe_X = daataframe_user_product[daataframe_user_product['user_id'].isin(Training_IDs)]\n",
    "daataframe_X.head(10)"
   ]
  },
  {
   "cell_type": "code",
   "execution_count": 20,
   "metadata": {
    "ExecuteTime": {
     "end_time": "2019-02-12T00:04:03.315558Z",
     "start_time": "2019-02-12T00:04:02.840479Z"
    }
   },
   "outputs": [],
   "source": [
    "Training_Carts = (daataframe_order_products_train.groupby('user_id',as_index=False)\n",
    "                                      .agg({'product_id':(lambda x: set(x))})\n",
    "                                      .rename(columns={'product_id':'latest_cart'}))"
   ]
  },
  {
   "cell_type": "code",
   "execution_count": 21,
   "metadata": {
    "ExecuteTime": {
     "end_time": "2019-02-12T00:04:03.338803Z",
     "start_time": "2019-02-12T00:04:03.318721Z"
    }
   },
   "outputs": [
    {
     "data": {
      "text/html": [
       "<div>\n",
       "<style scoped>\n",
       "    .dataframe tbody tr th:only-of-type {\n",
       "        vertical-align: middle;\n",
       "    }\n",
       "\n",
       "    .dataframe tbody tr th {\n",
       "        vertical-align: top;\n",
       "    }\n",
       "\n",
       "    .dataframe thead th {\n",
       "        text-align: right;\n",
       "    }\n",
       "</style>\n",
       "<table border=\"1\" class=\"dataframe\">\n",
       "  <thead>\n",
       "    <tr style=\"text-align: right;\">\n",
       "      <th></th>\n",
       "      <th>user_id</th>\n",
       "      <th>latest_cart</th>\n",
       "    </tr>\n",
       "  </thead>\n",
       "  <tbody>\n",
       "    <tr>\n",
       "      <th>0</th>\n",
       "      <td>59</td>\n",
       "      <td>{22912, 34949, 2825, 47888, 21137, 19611, 4440...</td>\n",
       "    </tr>\n",
       "    <tr>\n",
       "      <th>1</th>\n",
       "      <td>103</td>\n",
       "      <td>{13225}</td>\n",
       "    </tr>\n",
       "    <tr>\n",
       "      <th>2</th>\n",
       "      <td>109</td>\n",
       "      <td>{35042, 30406, 47144, 6473, 5450, 26477, 21936...</td>\n",
       "    </tr>\n",
       "    <tr>\n",
       "      <th>3</th>\n",
       "      <td>163</td>\n",
       "      <td>{22721, 16610, 26981, 12391, 14036, 36214, 423...</td>\n",
       "    </tr>\n",
       "    <tr>\n",
       "      <th>4</th>\n",
       "      <td>164</td>\n",
       "      <td>{34905, 10212, 2086, 39721, 4942, 21903, 35121...</td>\n",
       "    </tr>\n",
       "    <tr>\n",
       "      <th>5</th>\n",
       "      <td>171</td>\n",
       "      <td>{24129, 47107, 34534, 41319, 29640, 9225, 6793...</td>\n",
       "    </tr>\n",
       "    <tr>\n",
       "      <th>6</th>\n",
       "      <td>201</td>\n",
       "      <td>{43129, 329, 9337}</td>\n",
       "    </tr>\n",
       "    <tr>\n",
       "      <th>7</th>\n",
       "      <td>235</td>\n",
       "      <td>{22400, 14048, 37158, 9383, 25513, 45066, 4852...</td>\n",
       "    </tr>\n",
       "    <tr>\n",
       "      <th>8</th>\n",
       "      <td>283</td>\n",
       "      <td>{32971, 32303, 41973, 43352, 41596, 16797}</td>\n",
       "    </tr>\n",
       "    <tr>\n",
       "      <th>9</th>\n",
       "      <td>289</td>\n",
       "      <td>{47042, 47209, 30442, 6187, 35503, 21137, 2203...</td>\n",
       "    </tr>\n",
       "  </tbody>\n",
       "</table>\n",
       "</div>"
      ],
      "text/plain": [
       "   user_id                                        latest_cart\n",
       "0       59  {22912, 34949, 2825, 47888, 21137, 19611, 4440...\n",
       "1      103                                            {13225}\n",
       "2      109  {35042, 30406, 47144, 6473, 5450, 26477, 21936...\n",
       "3      163  {22721, 16610, 26981, 12391, 14036, 36214, 423...\n",
       "4      164  {34905, 10212, 2086, 39721, 4942, 21903, 35121...\n",
       "5      171  {24129, 47107, 34534, 41319, 29640, 9225, 6793...\n",
       "6      201                                 {43129, 329, 9337}\n",
       "7      235  {22400, 14048, 37158, 9383, 25513, 45066, 4852...\n",
       "8      283         {32971, 32303, 41973, 43352, 41596, 16797}\n",
       "9      289  {47042, 47209, 30442, 6187, 35503, 21137, 2203..."
      ]
     },
     "execution_count": 21,
     "metadata": {},
     "output_type": "execute_result"
    }
   ],
   "source": [
    "Training_Carts.head(10)"
   ]
  },
  {
   "cell_type": "code",
   "execution_count": 22,
   "metadata": {
    "ExecuteTime": {
     "end_time": "2019-02-12T00:04:31.097510Z",
     "start_time": "2019-02-12T00:04:03.343746Z"
    }
   },
   "outputs": [
    {
     "data": {
      "text/html": [
       "<div>\n",
       "<style scoped>\n",
       "    .dataframe tbody tr th:only-of-type {\n",
       "        vertical-align: middle;\n",
       "    }\n",
       "\n",
       "    .dataframe tbody tr th {\n",
       "        vertical-align: top;\n",
       "    }\n",
       "\n",
       "    .dataframe thead th {\n",
       "        text-align: right;\n",
       "    }\n",
       "</style>\n",
       "<table border=\"1\" class=\"dataframe\">\n",
       "  <thead>\n",
       "    <tr style=\"text-align: right;\">\n",
       "      <th></th>\n",
       "      <th>product_id</th>\n",
       "      <th>user_id</th>\n",
       "      <th>user_product_total_orders</th>\n",
       "      <th>latest_cart</th>\n",
       "      <th>in_cart</th>\n",
       "    </tr>\n",
       "  </thead>\n",
       "  <tbody>\n",
       "    <tr>\n",
       "      <th>0</th>\n",
       "      <td>1</td>\n",
       "      <td>1494</td>\n",
       "      <td>3</td>\n",
       "      <td>{44560}</td>\n",
       "      <td>0</td>\n",
       "    </tr>\n",
       "    <tr>\n",
       "      <th>1</th>\n",
       "      <td>130</td>\n",
       "      <td>1494</td>\n",
       "      <td>2</td>\n",
       "      <td>{44560}</td>\n",
       "      <td>0</td>\n",
       "    </tr>\n",
       "    <tr>\n",
       "      <th>2</th>\n",
       "      <td>397</td>\n",
       "      <td>1494</td>\n",
       "      <td>1</td>\n",
       "      <td>{44560}</td>\n",
       "      <td>0</td>\n",
       "    </tr>\n",
       "    <tr>\n",
       "      <th>3</th>\n",
       "      <td>881</td>\n",
       "      <td>1494</td>\n",
       "      <td>1</td>\n",
       "      <td>{44560}</td>\n",
       "      <td>0</td>\n",
       "    </tr>\n",
       "    <tr>\n",
       "      <th>4</th>\n",
       "      <td>1004</td>\n",
       "      <td>1494</td>\n",
       "      <td>2</td>\n",
       "      <td>{44560}</td>\n",
       "      <td>0</td>\n",
       "    </tr>\n",
       "    <tr>\n",
       "      <th>5</th>\n",
       "      <td>1648</td>\n",
       "      <td>1494</td>\n",
       "      <td>2</td>\n",
       "      <td>{44560}</td>\n",
       "      <td>0</td>\n",
       "    </tr>\n",
       "    <tr>\n",
       "      <th>6</th>\n",
       "      <td>2449</td>\n",
       "      <td>1494</td>\n",
       "      <td>1</td>\n",
       "      <td>{44560}</td>\n",
       "      <td>0</td>\n",
       "    </tr>\n",
       "    <tr>\n",
       "      <th>7</th>\n",
       "      <td>2745</td>\n",
       "      <td>1494</td>\n",
       "      <td>2</td>\n",
       "      <td>{44560}</td>\n",
       "      <td>0</td>\n",
       "    </tr>\n",
       "    <tr>\n",
       "      <th>8</th>\n",
       "      <td>3126</td>\n",
       "      <td>1494</td>\n",
       "      <td>2</td>\n",
       "      <td>{44560}</td>\n",
       "      <td>0</td>\n",
       "    </tr>\n",
       "    <tr>\n",
       "      <th>9</th>\n",
       "      <td>4377</td>\n",
       "      <td>1494</td>\n",
       "      <td>3</td>\n",
       "      <td>{44560}</td>\n",
       "      <td>0</td>\n",
       "    </tr>\n",
       "  </tbody>\n",
       "</table>\n",
       "</div>"
      ],
      "text/plain": [
       "   product_id  user_id  user_product_total_orders latest_cart  in_cart\n",
       "0           1     1494                          3     {44560}        0\n",
       "1         130     1494                          2     {44560}        0\n",
       "2         397     1494                          1     {44560}        0\n",
       "3         881     1494                          1     {44560}        0\n",
       "4        1004     1494                          2     {44560}        0\n",
       "5        1648     1494                          2     {44560}        0\n",
       "6        2449     1494                          1     {44560}        0\n",
       "7        2745     1494                          2     {44560}        0\n",
       "8        3126     1494                          2     {44560}        0\n",
       "9        4377     1494                          3     {44560}        0"
      ]
     },
     "execution_count": 22,
     "metadata": {},
     "output_type": "execute_result"
    }
   ],
   "source": [
    "daataframe_X = daataframe_X.merge(Training_Carts, on='user_id')\n",
    "daataframe_X['in_cart'] = (daataframe_X.apply(lambda row: row['product_id'] in row['latest_cart'], axis=1).astype(int))\n",
    "\n",
    "daataframe_X.head(10)"
   ]
  },
  {
   "cell_type": "code",
   "execution_count": 23,
   "metadata": {
    "ExecuteTime": {
     "end_time": "2019-02-12T00:04:31.534409Z",
     "start_time": "2019-02-12T00:04:31.101454Z"
    }
   },
   "outputs": [
    {
     "name": "stdout",
     "output_type": "stream",
     "text": [
      "0    0.901262\n",
      "1    0.098738\n",
      "Name: in_cart, dtype: float64\n"
     ]
    }
   ],
   "source": [
    "Target_Packets = daataframe_X.in_cart.value_counts(normalize=True) \n",
    "print(Target_Packets)"
   ]
  },
  {
   "cell_type": "code",
   "execution_count": 24,
   "metadata": {
    "ExecuteTime": {
     "end_time": "2019-02-12T00:04:31.573624Z",
     "start_time": "2019-02-12T00:04:31.554516Z"
    }
   },
   "outputs": [
    {
     "data": {
      "text/html": [
       "<div>\n",
       "<style scoped>\n",
       "    .dataframe tbody tr th:only-of-type {\n",
       "        vertical-align: middle;\n",
       "    }\n",
       "\n",
       "    .dataframe tbody tr th {\n",
       "        vertical-align: top;\n",
       "    }\n",
       "\n",
       "    .dataframe thead th {\n",
       "        text-align: right;\n",
       "    }\n",
       "</style>\n",
       "<table border=\"1\" class=\"dataframe\">\n",
       "  <thead>\n",
       "    <tr style=\"text-align: right;\">\n",
       "      <th></th>\n",
       "      <th>product_id</th>\n",
       "      <th>user_id</th>\n",
       "      <th>user_product_total_orders</th>\n",
       "      <th>latest_cart</th>\n",
       "      <th>in_cart</th>\n",
       "    </tr>\n",
       "  </thead>\n",
       "  <tbody>\n",
       "    <tr>\n",
       "      <th>0</th>\n",
       "      <td>1</td>\n",
       "      <td>1494</td>\n",
       "      <td>3</td>\n",
       "      <td>{44560}</td>\n",
       "      <td>0</td>\n",
       "    </tr>\n",
       "    <tr>\n",
       "      <th>1</th>\n",
       "      <td>130</td>\n",
       "      <td>1494</td>\n",
       "      <td>2</td>\n",
       "      <td>{44560}</td>\n",
       "      <td>0</td>\n",
       "    </tr>\n",
       "    <tr>\n",
       "      <th>2</th>\n",
       "      <td>397</td>\n",
       "      <td>1494</td>\n",
       "      <td>1</td>\n",
       "      <td>{44560}</td>\n",
       "      <td>0</td>\n",
       "    </tr>\n",
       "    <tr>\n",
       "      <th>3</th>\n",
       "      <td>881</td>\n",
       "      <td>1494</td>\n",
       "      <td>1</td>\n",
       "      <td>{44560}</td>\n",
       "      <td>0</td>\n",
       "    </tr>\n",
       "    <tr>\n",
       "      <th>4</th>\n",
       "      <td>1004</td>\n",
       "      <td>1494</td>\n",
       "      <td>2</td>\n",
       "      <td>{44560}</td>\n",
       "      <td>0</td>\n",
       "    </tr>\n",
       "    <tr>\n",
       "      <th>5</th>\n",
       "      <td>1648</td>\n",
       "      <td>1494</td>\n",
       "      <td>2</td>\n",
       "      <td>{44560}</td>\n",
       "      <td>0</td>\n",
       "    </tr>\n",
       "    <tr>\n",
       "      <th>6</th>\n",
       "      <td>2449</td>\n",
       "      <td>1494</td>\n",
       "      <td>1</td>\n",
       "      <td>{44560}</td>\n",
       "      <td>0</td>\n",
       "    </tr>\n",
       "    <tr>\n",
       "      <th>7</th>\n",
       "      <td>2745</td>\n",
       "      <td>1494</td>\n",
       "      <td>2</td>\n",
       "      <td>{44560}</td>\n",
       "      <td>0</td>\n",
       "    </tr>\n",
       "    <tr>\n",
       "      <th>8</th>\n",
       "      <td>3126</td>\n",
       "      <td>1494</td>\n",
       "      <td>2</td>\n",
       "      <td>{44560}</td>\n",
       "      <td>0</td>\n",
       "    </tr>\n",
       "    <tr>\n",
       "      <th>9</th>\n",
       "      <td>4377</td>\n",
       "      <td>1494</td>\n",
       "      <td>3</td>\n",
       "      <td>{44560}</td>\n",
       "      <td>0</td>\n",
       "    </tr>\n",
       "  </tbody>\n",
       "</table>\n",
       "</div>"
      ],
      "text/plain": [
       "   product_id  user_id  user_product_total_orders latest_cart  in_cart\n",
       "0           1     1494                          3     {44560}        0\n",
       "1         130     1494                          2     {44560}        0\n",
       "2         397     1494                          1     {44560}        0\n",
       "3         881     1494                          1     {44560}        0\n",
       "4        1004     1494                          2     {44560}        0\n",
       "5        1648     1494                          2     {44560}        0\n",
       "6        2449     1494                          1     {44560}        0\n",
       "7        2745     1494                          2     {44560}        0\n",
       "8        3126     1494                          2     {44560}        0\n",
       "9        4377     1494                          3     {44560}        0"
      ]
     },
     "execution_count": 24,
     "metadata": {},
     "output_type": "execute_result"
    }
   ],
   "source": [
    "daataframe_X.head(10)"
   ]
  },
  {
   "cell_type": "code",
   "execution_count": 25,
   "metadata": {
    "ExecuteTime": {
     "end_time": "2019-02-12T00:04:31.594767Z",
     "start_time": "2019-02-12T00:04:31.585134Z"
    }
   },
   "outputs": [],
   "source": [
    "def Plot_Features(dataframe, sample_size=500):\n",
    "    \n",
    "    sample = (daataframe.drop(['product_id','user_id','latest_cart'],axis=1)\n",
    "                .sample(1000, random_state=44)) \n",
    "    sns.pairplot(sample,hue='in_cart', plot_kws=dict(alpha=.3, edgecolor='none'))"
   ]
  },
  {
   "cell_type": "code",
   "execution_count": 26,
   "metadata": {
    "ExecuteTime": {
     "end_time": "2019-02-12T00:04:31.613597Z",
     "start_time": "2019-02-12T00:04:31.599136Z"
    }
   },
   "outputs": [],
   "source": [
    "def GetUserSplitData(daataframe, test_size=.2, seed=42):\n",
    "\n",
    "    random_state = np.random.RandomState(seed)\n",
    "    \n",
    "    All_Users = daataframe['user_id'].unique() \n",
    "    Tst_Urs = random_state.choice(All_Users, \n",
    "                           size=int(All_Users.shape[0] * test_size), \n",
    "                           replace=False)\n",
    "\n",
    "    daataframe_Train = daataframe[~daataframe['user_id'].isin(Tst_Urs)] \n",
    "    Test_daataframe = daataframe[daataframe['user_id'].isin(Tst_Urs)]  \n",
    "   \n",
    "    y_Train, y_Test = daataframe_Train['in_cart'], Test_daataframe['in_cart'] \n",
    "    X_Train = daataframe_Train.drop(['product_id','user_id','latest_cart','in_cart'],axis=1) \n",
    "    X_Test = Test_daataframe.drop(['product_id','user_id','latest_cart','in_cart'],axis=1) \n",
    "    \n",
    "    return X_Train, X_Test, y_Train, y_Test"
   ]
  },
  {
   "cell_type": "code",
   "execution_count": 27,
   "metadata": {
    "ExecuteTime": {
     "end_time": "2019-02-12T00:04:31.771042Z",
     "start_time": "2019-02-12T00:04:31.617546Z"
    }
   },
   "outputs": [],
   "source": [
    "X_Train, X_Test, y_Train, y_Test = GetUserSplitData(daataframe_X)"
   ]
  },
  {
   "cell_type": "code",
   "execution_count": 28,
   "metadata": {
    "ExecuteTime": {
     "end_time": "2019-02-12T00:04:32.841584Z",
     "start_time": "2019-02-12T00:04:31.774391Z"
    }
   },
   "outputs": [
    {
     "data": {
      "text/plain": [
       "0.08444659048232202"
      ]
     },
     "execution_count": 28,
     "metadata": {},
     "output_type": "execute_result"
    }
   ],
   "source": [
    "logistic_regression_grocery = LogisticRegression(solver='lbfgs')\n",
    "logistic_regression_grocery.fit(X_Train, y_Train)\n",
    "f1_score(logistic_regression_grocery.predict(X_Test), y_Test)"
   ]
  },
  {
   "cell_type": "code",
   "execution_count": 29,
   "metadata": {
    "ExecuteTime": {
     "end_time": "2019-02-12T00:04:32.869034Z",
     "start_time": "2019-02-12T00:04:32.853167Z"
    }
   },
   "outputs": [
    {
     "data": {
      "text/plain": [
       "array([[0.14635276]])"
      ]
     },
     "execution_count": 29,
     "metadata": {},
     "output_type": "execute_result"
    }
   ],
   "source": [
    "logistic_regression_grocery.coef_"
   ]
  },
  {
   "cell_type": "code",
   "execution_count": 31,
   "metadata": {
    "ExecuteTime": {
     "end_time": "2019-02-12T00:04:33.996785Z",
     "start_time": "2019-02-12T00:04:32.878068Z"
    }
   },
   "outputs": [
    {
     "data": {
      "text/html": [
       "<div>\n",
       "<style scoped>\n",
       "    .dataframe tbody tr th:only-of-type {\n",
       "        vertical-align: middle;\n",
       "    }\n",
       "\n",
       "    .dataframe tbody tr th {\n",
       "        vertical-align: top;\n",
       "    }\n",
       "\n",
       "    .dataframe thead th {\n",
       "        text-align: right;\n",
       "    }\n",
       "</style>\n",
       "<table border=\"1\" class=\"dataframe\">\n",
       "  <thead>\n",
       "    <tr style=\"text-align: right;\">\n",
       "      <th></th>\n",
       "      <th>product_id</th>\n",
       "      <th>product_total_orders</th>\n",
       "      <th>product_avg_add_to_cart_order</th>\n",
       "    </tr>\n",
       "  </thead>\n",
       "  <tbody>\n",
       "    <tr>\n",
       "      <th>0</th>\n",
       "      <td>1</td>\n",
       "      <td>195</td>\n",
       "      <td>5.579487</td>\n",
       "    </tr>\n",
       "    <tr>\n",
       "      <th>1</th>\n",
       "      <td>2</td>\n",
       "      <td>6</td>\n",
       "      <td>6.333333</td>\n",
       "    </tr>\n",
       "    <tr>\n",
       "      <th>2</th>\n",
       "      <td>3</td>\n",
       "      <td>12</td>\n",
       "      <td>4.833333</td>\n",
       "    </tr>\n",
       "    <tr>\n",
       "      <th>3</th>\n",
       "      <td>4</td>\n",
       "      <td>31</td>\n",
       "      <td>8.516129</td>\n",
       "    </tr>\n",
       "    <tr>\n",
       "      <th>4</th>\n",
       "      <td>6</td>\n",
       "      <td>1</td>\n",
       "      <td>26.000000</td>\n",
       "    </tr>\n",
       "    <tr>\n",
       "      <th>5</th>\n",
       "      <td>7</td>\n",
       "      <td>1</td>\n",
       "      <td>2.000000</td>\n",
       "    </tr>\n",
       "    <tr>\n",
       "      <th>6</th>\n",
       "      <td>8</td>\n",
       "      <td>3</td>\n",
       "      <td>13.333333</td>\n",
       "    </tr>\n",
       "    <tr>\n",
       "      <th>7</th>\n",
       "      <td>9</td>\n",
       "      <td>17</td>\n",
       "      <td>5.705882</td>\n",
       "    </tr>\n",
       "    <tr>\n",
       "      <th>8</th>\n",
       "      <td>10</td>\n",
       "      <td>190</td>\n",
       "      <td>8.710526</td>\n",
       "    </tr>\n",
       "    <tr>\n",
       "      <th>9</th>\n",
       "      <td>11</td>\n",
       "      <td>4</td>\n",
       "      <td>6.000000</td>\n",
       "    </tr>\n",
       "  </tbody>\n",
       "</table>\n",
       "</div>"
      ],
      "text/plain": [
       "   product_id  product_total_orders  product_avg_add_to_cart_order\n",
       "0           1                   195                       5.579487\n",
       "1           2                     6                       6.333333\n",
       "2           3                    12                       4.833333\n",
       "3           4                    31                       8.516129\n",
       "4           6                     1                      26.000000\n",
       "5           7                     1                       2.000000\n",
       "6           8                     3                      13.333333\n",
       "7           9                    17                       5.705882\n",
       "8          10                   190                       8.710526\n",
       "9          11                     4                       6.000000"
      ]
     },
     "execution_count": 31,
     "metadata": {},
     "output_type": "execute_result"
    }
   ],
   "source": [
    "Features_Products = ['product_total_orders','product_avg_add_to_cart_order']\n",
    "daataframe_Features_Products = (daataframe_order_products_prior.groupby(['product_id'],as_index=False)\n",
    "                                           .agg(OrderedDict(\n",
    "                                                   [('order_id','nunique'),\n",
    "                                                    ('add_to_cart_order','mean')])))\n",
    "daataframe_Features_Products.columns = ['product_id'] + Features_Products\n",
    "daataframe_Features_Products.head(10)"
   ]
  },
  {
   "cell_type": "code",
   "execution_count": 33,
   "metadata": {
    "ExecuteTime": {
     "end_time": "2019-02-12T00:04:34.446246Z",
     "start_time": "2019-02-12T00:04:33.999444Z"
    }
   },
   "outputs": [
    {
     "data": {
      "text/html": [
       "<div>\n",
       "<style scoped>\n",
       "    .dataframe tbody tr th:only-of-type {\n",
       "        vertical-align: middle;\n",
       "    }\n",
       "\n",
       "    .dataframe tbody tr th {\n",
       "        vertical-align: top;\n",
       "    }\n",
       "\n",
       "    .dataframe thead th {\n",
       "        text-align: right;\n",
       "    }\n",
       "</style>\n",
       "<table border=\"1\" class=\"dataframe\">\n",
       "  <thead>\n",
       "    <tr style=\"text-align: right;\">\n",
       "      <th></th>\n",
       "      <th>product_id</th>\n",
       "      <th>user_id</th>\n",
       "      <th>user_product_total_orders</th>\n",
       "      <th>latest_cart</th>\n",
       "      <th>in_cart</th>\n",
       "      <th>product_total_orders</th>\n",
       "      <th>product_avg_add_to_cart_order</th>\n",
       "    </tr>\n",
       "  </thead>\n",
       "  <tbody>\n",
       "    <tr>\n",
       "      <th>0</th>\n",
       "      <td>1</td>\n",
       "      <td>1494</td>\n",
       "      <td>3</td>\n",
       "      <td>{44560}</td>\n",
       "      <td>0</td>\n",
       "      <td>195</td>\n",
       "      <td>5.579487</td>\n",
       "    </tr>\n",
       "    <tr>\n",
       "      <th>1</th>\n",
       "      <td>1</td>\n",
       "      <td>3010</td>\n",
       "      <td>1</td>\n",
       "      <td>{26088, 20940, 26348, 32689, 6008, 13176}</td>\n",
       "      <td>0</td>\n",
       "      <td>195</td>\n",
       "      <td>5.579487</td>\n",
       "    </tr>\n",
       "    <tr>\n",
       "      <th>2</th>\n",
       "      <td>1</td>\n",
       "      <td>10315</td>\n",
       "      <td>1</td>\n",
       "      <td>{21386}</td>\n",
       "      <td>0</td>\n",
       "      <td>195</td>\n",
       "      <td>5.579487</td>\n",
       "    </tr>\n",
       "    <tr>\n",
       "      <th>3</th>\n",
       "      <td>1</td>\n",
       "      <td>11119</td>\n",
       "      <td>1</td>\n",
       "      <td>{17122, 8803, 43352, 41400, 5769, 14477, 21903...</td>\n",
       "      <td>0</td>\n",
       "      <td>195</td>\n",
       "      <td>5.579487</td>\n",
       "    </tr>\n",
       "    <tr>\n",
       "      <th>4</th>\n",
       "      <td>1</td>\n",
       "      <td>12892</td>\n",
       "      <td>1</td>\n",
       "      <td>{43136, 5161, 17720}</td>\n",
       "      <td>0</td>\n",
       "      <td>195</td>\n",
       "      <td>5.579487</td>\n",
       "    </tr>\n",
       "    <tr>\n",
       "      <th>5</th>\n",
       "      <td>1</td>\n",
       "      <td>18586</td>\n",
       "      <td>2</td>\n",
       "      <td>{196, 9477, 37710}</td>\n",
       "      <td>0</td>\n",
       "      <td>195</td>\n",
       "      <td>5.579487</td>\n",
       "    </tr>\n",
       "    <tr>\n",
       "      <th>6</th>\n",
       "      <td>1</td>\n",
       "      <td>20687</td>\n",
       "      <td>1</td>\n",
       "      <td>{8958}</td>\n",
       "      <td>0</td>\n",
       "      <td>195</td>\n",
       "      <td>5.579487</td>\n",
       "    </tr>\n",
       "    <tr>\n",
       "      <th>7</th>\n",
       "      <td>1</td>\n",
       "      <td>21219</td>\n",
       "      <td>1</td>\n",
       "      <td>{653, 39190, 29463, 46107, 10662, 17191, 33959...</td>\n",
       "      <td>0</td>\n",
       "      <td>195</td>\n",
       "      <td>5.579487</td>\n",
       "    </tr>\n",
       "    <tr>\n",
       "      <th>8</th>\n",
       "      <td>1</td>\n",
       "      <td>24324</td>\n",
       "      <td>6</td>\n",
       "      <td>{43459, 40709, 36551, 25513, 45321, 37178, 441...</td>\n",
       "      <td>0</td>\n",
       "      <td>195</td>\n",
       "      <td>5.579487</td>\n",
       "    </tr>\n",
       "    <tr>\n",
       "      <th>9</th>\n",
       "      <td>1</td>\n",
       "      <td>30618</td>\n",
       "      <td>3</td>\n",
       "      <td>{37317, 46058, 22507, 8079, 12341, 4920, 28413...</td>\n",
       "      <td>0</td>\n",
       "      <td>195</td>\n",
       "      <td>5.579487</td>\n",
       "    </tr>\n",
       "  </tbody>\n",
       "</table>\n",
       "</div>"
      ],
      "text/plain": [
       "   product_id  user_id  user_product_total_orders  \\\n",
       "0           1     1494                          3   \n",
       "1           1     3010                          1   \n",
       "2           1    10315                          1   \n",
       "3           1    11119                          1   \n",
       "4           1    12892                          1   \n",
       "5           1    18586                          2   \n",
       "6           1    20687                          1   \n",
       "7           1    21219                          1   \n",
       "8           1    24324                          6   \n",
       "9           1    30618                          3   \n",
       "\n",
       "                                         latest_cart  in_cart  \\\n",
       "0                                            {44560}        0   \n",
       "1          {26088, 20940, 26348, 32689, 6008, 13176}        0   \n",
       "2                                            {21386}        0   \n",
       "3  {17122, 8803, 43352, 41400, 5769, 14477, 21903...        0   \n",
       "4                               {43136, 5161, 17720}        0   \n",
       "5                                 {196, 9477, 37710}        0   \n",
       "6                                             {8958}        0   \n",
       "7  {653, 39190, 29463, 46107, 10662, 17191, 33959...        0   \n",
       "8  {43459, 40709, 36551, 25513, 45321, 37178, 441...        0   \n",
       "9  {37317, 46058, 22507, 8079, 12341, 4920, 28413...        0   \n",
       "\n",
       "   product_total_orders  product_avg_add_to_cart_order  \n",
       "0                   195                       5.579487  \n",
       "1                   195                       5.579487  \n",
       "2                   195                       5.579487  \n",
       "3                   195                       5.579487  \n",
       "4                   195                       5.579487  \n",
       "5                   195                       5.579487  \n",
       "6                   195                       5.579487  \n",
       "7                   195                       5.579487  \n",
       "8                   195                       5.579487  \n",
       "9                   195                       5.579487  "
      ]
     },
     "execution_count": 33,
     "metadata": {},
     "output_type": "execute_result"
    }
   ],
   "source": [
    "daataframe_X = daataframe_X.merge(daataframe_Features_Products, on='product_id')\n",
    "daataframe_X.head(10)"
   ]
  },
  {
   "cell_type": "code",
   "execution_count": 34,
   "metadata": {
    "ExecuteTime": {
     "end_time": "2019-02-12T00:04:37.738639Z",
     "start_time": "2019-02-12T00:04:34.472599Z"
    }
   },
   "outputs": [
    {
     "data": {
      "text/plain": [
       "0.09867132496956223"
      ]
     },
     "execution_count": 34,
     "metadata": {},
     "output_type": "execute_result"
    }
   ],
   "source": [
    "X_Train, X_Test, y_Train, y_Test = GetUserSplitData(daataframe_X)\n",
    "\n",
    "logistic_regression_grocery = LogisticRegression()\n",
    "logistic_regression_grocery.fit(X_Train, y_Train)\n",
    "f1_score(logistic_regression_grocery.predict(X_Test), y_Test)"
   ]
  },
  {
   "cell_type": "code",
   "execution_count": 35,
   "metadata": {
    "ExecuteTime": {
     "end_time": "2019-02-12T00:04:42.279773Z",
     "start_time": "2019-02-12T00:04:37.742520Z"
    }
   },
   "outputs": [
    {
     "data": {
      "text/html": [
       "<div>\n",
       "<style scoped>\n",
       "    .dataframe tbody tr th:only-of-type {\n",
       "        vertical-align: middle;\n",
       "    }\n",
       "\n",
       "    .dataframe tbody tr th {\n",
       "        vertical-align: top;\n",
       "    }\n",
       "\n",
       "    .dataframe thead th {\n",
       "        text-align: right;\n",
       "    }\n",
       "</style>\n",
       "<table border=\"1\" class=\"dataframe\">\n",
       "  <thead>\n",
       "    <tr style=\"text-align: right;\">\n",
       "      <th></th>\n",
       "      <th>user_id</th>\n",
       "      <th>user_total_orders</th>\n",
       "      <th>user_avg_cartsize</th>\n",
       "      <th>user_total_products</th>\n",
       "      <th>user_avg_days_since_prior_order</th>\n",
       "    </tr>\n",
       "  </thead>\n",
       "  <tbody>\n",
       "    <tr>\n",
       "      <th>0</th>\n",
       "      <td>4</td>\n",
       "      <td>5</td>\n",
       "      <td>3.600000</td>\n",
       "      <td>17</td>\n",
       "      <td>15.357143</td>\n",
       "    </tr>\n",
       "    <tr>\n",
       "      <th>1</th>\n",
       "      <td>20</td>\n",
       "      <td>4</td>\n",
       "      <td>5.500000</td>\n",
       "      <td>7</td>\n",
       "      <td>5.500000</td>\n",
       "    </tr>\n",
       "    <tr>\n",
       "      <th>2</th>\n",
       "      <td>22</td>\n",
       "      <td>15</td>\n",
       "      <td>4.600000</td>\n",
       "      <td>34</td>\n",
       "      <td>11.952381</td>\n",
       "    </tr>\n",
       "    <tr>\n",
       "      <th>3</th>\n",
       "      <td>25</td>\n",
       "      <td>3</td>\n",
       "      <td>7.000000</td>\n",
       "      <td>19</td>\n",
       "      <td>30.000000</td>\n",
       "    </tr>\n",
       "    <tr>\n",
       "      <th>4</th>\n",
       "      <td>59</td>\n",
       "      <td>10</td>\n",
       "      <td>9.200000</td>\n",
       "      <td>60</td>\n",
       "      <td>18.126582</td>\n",
       "    </tr>\n",
       "    <tr>\n",
       "      <th>5</th>\n",
       "      <td>77</td>\n",
       "      <td>12</td>\n",
       "      <td>16.916667</td>\n",
       "      <td>128</td>\n",
       "      <td>12.300000</td>\n",
       "    </tr>\n",
       "    <tr>\n",
       "      <th>6</th>\n",
       "      <td>100</td>\n",
       "      <td>5</td>\n",
       "      <td>5.400000</td>\n",
       "      <td>20</td>\n",
       "      <td>26.320000</td>\n",
       "    </tr>\n",
       "    <tr>\n",
       "      <th>7</th>\n",
       "      <td>103</td>\n",
       "      <td>17</td>\n",
       "      <td>4.529412</td>\n",
       "      <td>41</td>\n",
       "      <td>9.080000</td>\n",
       "    </tr>\n",
       "    <tr>\n",
       "      <th>8</th>\n",
       "      <td>109</td>\n",
       "      <td>6</td>\n",
       "      <td>11.500000</td>\n",
       "      <td>50</td>\n",
       "      <td>21.850000</td>\n",
       "    </tr>\n",
       "    <tr>\n",
       "      <th>9</th>\n",
       "      <td>141</td>\n",
       "      <td>4</td>\n",
       "      <td>10.250000</td>\n",
       "      <td>35</td>\n",
       "      <td>3.535714</td>\n",
       "    </tr>\n",
       "  </tbody>\n",
       "</table>\n",
       "</div>"
      ],
      "text/plain": [
       "   user_id  user_total_orders  user_avg_cartsize  user_total_products  \\\n",
       "0        4                  5           3.600000                   17   \n",
       "1       20                  4           5.500000                    7   \n",
       "2       22                 15           4.600000                   34   \n",
       "3       25                  3           7.000000                   19   \n",
       "4       59                 10           9.200000                   60   \n",
       "5       77                 12          16.916667                  128   \n",
       "6      100                  5           5.400000                   20   \n",
       "7      103                 17           4.529412                   41   \n",
       "8      109                  6          11.500000                   50   \n",
       "9      141                  4          10.250000                   35   \n",
       "\n",
       "   user_avg_days_since_prior_order  \n",
       "0                        15.357143  \n",
       "1                         5.500000  \n",
       "2                        11.952381  \n",
       "3                        30.000000  \n",
       "4                        18.126582  \n",
       "5                        12.300000  \n",
       "6                        26.320000  \n",
       "7                         9.080000  \n",
       "8                        21.850000  \n",
       "9                         3.535714  "
      ]
     },
     "execution_count": 35,
     "metadata": {},
     "output_type": "execute_result"
    }
   ],
   "source": [
    "Features_Users = ['user_total_orders','user_avg_cartsize','user_total_products','user_avg_days_since_prior_order']\n",
    "\n",
    "daataframe_Features_Users = (daataframe_order_products_prior.groupby(['user_id'],as_index=False)\n",
    "                                           .agg(OrderedDict(    \n",
    "                                                   [('order_id',['nunique', (lambda x: x.shape[0] / x.nunique())]),\n",
    "                                                    ('product_id','nunique'),\n",
    "                                                    ('days_since_prior_order','mean')])))\n",
    "\n",
    "daataframe_Features_Users.columns = ['user_id'] + Features_Users\n",
    "daataframe_Features_Users.head(10)"
   ]
  },
  {
   "cell_type": "code",
   "execution_count": 36,
   "metadata": {
    "ExecuteTime": {
     "end_time": "2019-02-12T00:04:42.783412Z",
     "start_time": "2019-02-12T00:04:42.282892Z"
    }
   },
   "outputs": [
    {
     "data": {
      "text/html": [
       "<div>\n",
       "<style scoped>\n",
       "    .dataframe tbody tr th:only-of-type {\n",
       "        vertical-align: middle;\n",
       "    }\n",
       "\n",
       "    .dataframe tbody tr th {\n",
       "        vertical-align: top;\n",
       "    }\n",
       "\n",
       "    .dataframe thead th {\n",
       "        text-align: right;\n",
       "    }\n",
       "</style>\n",
       "<table border=\"1\" class=\"dataframe\">\n",
       "  <thead>\n",
       "    <tr style=\"text-align: right;\">\n",
       "      <th></th>\n",
       "      <th>product_id</th>\n",
       "      <th>user_id</th>\n",
       "      <th>user_product_total_orders</th>\n",
       "      <th>latest_cart</th>\n",
       "      <th>in_cart</th>\n",
       "      <th>product_total_orders</th>\n",
       "      <th>product_avg_add_to_cart_order</th>\n",
       "      <th>user_total_orders</th>\n",
       "      <th>user_avg_cartsize</th>\n",
       "      <th>user_total_products</th>\n",
       "      <th>user_avg_days_since_prior_order</th>\n",
       "    </tr>\n",
       "  </thead>\n",
       "  <tbody>\n",
       "    <tr>\n",
       "      <th>0</th>\n",
       "      <td>1</td>\n",
       "      <td>1494</td>\n",
       "      <td>3</td>\n",
       "      <td>{44560}</td>\n",
       "      <td>0</td>\n",
       "      <td>195</td>\n",
       "      <td>5.579487</td>\n",
       "      <td>13</td>\n",
       "      <td>12.153846</td>\n",
       "      <td>71</td>\n",
       "      <td>6.283582</td>\n",
       "    </tr>\n",
       "    <tr>\n",
       "      <th>1</th>\n",
       "      <td>130</td>\n",
       "      <td>1494</td>\n",
       "      <td>2</td>\n",
       "      <td>{44560}</td>\n",
       "      <td>0</td>\n",
       "      <td>393</td>\n",
       "      <td>4.282443</td>\n",
       "      <td>13</td>\n",
       "      <td>12.153846</td>\n",
       "      <td>71</td>\n",
       "      <td>6.283582</td>\n",
       "    </tr>\n",
       "    <tr>\n",
       "      <th>2</th>\n",
       "      <td>397</td>\n",
       "      <td>1494</td>\n",
       "      <td>1</td>\n",
       "      <td>{44560}</td>\n",
       "      <td>0</td>\n",
       "      <td>406</td>\n",
       "      <td>8.566502</td>\n",
       "      <td>13</td>\n",
       "      <td>12.153846</td>\n",
       "      <td>71</td>\n",
       "      <td>6.283582</td>\n",
       "    </tr>\n",
       "    <tr>\n",
       "      <th>3</th>\n",
       "      <td>881</td>\n",
       "      <td>1494</td>\n",
       "      <td>1</td>\n",
       "      <td>{44560}</td>\n",
       "      <td>0</td>\n",
       "      <td>228</td>\n",
       "      <td>9.662281</td>\n",
       "      <td>13</td>\n",
       "      <td>12.153846</td>\n",
       "      <td>71</td>\n",
       "      <td>6.283582</td>\n",
       "    </tr>\n",
       "    <tr>\n",
       "      <th>4</th>\n",
       "      <td>1004</td>\n",
       "      <td>1494</td>\n",
       "      <td>2</td>\n",
       "      <td>{44560}</td>\n",
       "      <td>0</td>\n",
       "      <td>34</td>\n",
       "      <td>12.794118</td>\n",
       "      <td>13</td>\n",
       "      <td>12.153846</td>\n",
       "      <td>71</td>\n",
       "      <td>6.283582</td>\n",
       "    </tr>\n",
       "  </tbody>\n",
       "</table>\n",
       "</div>"
      ],
      "text/plain": [
       "   product_id  user_id  user_product_total_orders latest_cart  in_cart  \\\n",
       "0           1     1494                          3     {44560}        0   \n",
       "1         130     1494                          2     {44560}        0   \n",
       "2         397     1494                          1     {44560}        0   \n",
       "3         881     1494                          1     {44560}        0   \n",
       "4        1004     1494                          2     {44560}        0   \n",
       "\n",
       "   product_total_orders  product_avg_add_to_cart_order  user_total_orders  \\\n",
       "0                   195                       5.579487                 13   \n",
       "1                   393                       4.282443                 13   \n",
       "2                   406                       8.566502                 13   \n",
       "3                   228                       9.662281                 13   \n",
       "4                    34                      12.794118                 13   \n",
       "\n",
       "   user_avg_cartsize  user_total_products  user_avg_days_since_prior_order  \n",
       "0          12.153846                   71                         6.283582  \n",
       "1          12.153846                   71                         6.283582  \n",
       "2          12.153846                   71                         6.283582  \n",
       "3          12.153846                   71                         6.283582  \n",
       "4          12.153846                   71                         6.283582  "
      ]
     },
     "execution_count": 36,
     "metadata": {},
     "output_type": "execute_result"
    }
   ],
   "source": [
    "daataframe_X = daataframe_X.merge(daataframe_Features_Users, on='user_id')\n",
    "daataframe_X.head(5)"
   ]
  },
  {
   "cell_type": "code",
   "execution_count": 37,
   "metadata": {
    "ExecuteTime": {
     "end_time": "2019-02-12T00:04:42.805278Z",
     "start_time": "2019-02-12T00:04:42.788757Z"
    }
   },
   "outputs": [
    {
     "data": {
      "text/plain": [
       "(856270, 11)"
      ]
     },
     "execution_count": 37,
     "metadata": {},
     "output_type": "execute_result"
    }
   ],
   "source": [
    "daataframe_X.shape"
   ]
  },
  {
   "cell_type": "code",
   "execution_count": 39,
   "metadata": {
    "ExecuteTime": {
     "end_time": "2019-02-12T00:04:48.340724Z",
     "start_time": "2019-02-12T00:04:42.835950Z"
    }
   },
   "outputs": [
    {
     "name": "stderr",
     "output_type": "stream",
     "text": [
      "C:\\Users\\LENOVO\\AppData\\Roaming\\Python\\Python38\\site-packages\\sklearn\\linear_model\\_logistic.py:763: ConvergenceWarning: lbfgs failed to converge (status=1):\n",
      "STOP: TOTAL NO. of ITERATIONS REACHED LIMIT.\n",
      "\n",
      "Increase the number of iterations (max_iter) or scale the data as shown in:\n",
      "    https://scikit-learn.org/stable/modules/preprocessing.html\n",
      "Please also refer to the documentation for alternative solver options:\n",
      "    https://scikit-learn.org/stable/modules/linear_model.html#logistic-regression\n",
      "  n_iter_i = _check_optimize_result(\n"
     ]
    },
    {
     "data": {
      "text/plain": [
       "0.15433038887196668"
      ]
     },
     "execution_count": 39,
     "metadata": {},
     "output_type": "execute_result"
    }
   ],
   "source": [
    "X_Train, X_Test, y_Train, y_Test = GetUserSplitData(daataframe_X)\n",
    "\n",
    "logistic_regression_grocery = LogisticRegression()\n",
    "logistic_regression_grocery.fit(X_Train, y_Train)\n",
    "f1_score(logistic_regression_grocery.predict(X_Test), y_Test)"
   ]
  },
  {
   "cell_type": "code",
   "execution_count": 40,
   "metadata": {
    "ExecuteTime": {
     "end_time": "2019-02-12T00:04:49.809096Z",
     "start_time": "2019-02-12T00:04:48.345111Z"
    }
   },
   "outputs": [
    {
     "data": {
      "text/html": [
       "<div>\n",
       "<style scoped>\n",
       "    .dataframe tbody tr th:only-of-type {\n",
       "        vertical-align: middle;\n",
       "    }\n",
       "\n",
       "    .dataframe tbody tr th {\n",
       "        vertical-align: top;\n",
       "    }\n",
       "\n",
       "    .dataframe thead th {\n",
       "        text-align: right;\n",
       "    }\n",
       "</style>\n",
       "<table border=\"1\" class=\"dataframe\">\n",
       "  <thead>\n",
       "    <tr style=\"text-align: right;\">\n",
       "      <th></th>\n",
       "      <th>product_id</th>\n",
       "      <th>user_id</th>\n",
       "      <th>user_product_avg_add_to_cart_order</th>\n",
       "    </tr>\n",
       "  </thead>\n",
       "  <tbody>\n",
       "    <tr>\n",
       "      <th>0</th>\n",
       "      <td>1</td>\n",
       "      <td>1494</td>\n",
       "      <td>12.666667</td>\n",
       "    </tr>\n",
       "    <tr>\n",
       "      <th>1</th>\n",
       "      <td>1</td>\n",
       "      <td>3010</td>\n",
       "      <td>11.000000</td>\n",
       "    </tr>\n",
       "    <tr>\n",
       "      <th>2</th>\n",
       "      <td>1</td>\n",
       "      <td>4122</td>\n",
       "      <td>1.000000</td>\n",
       "    </tr>\n",
       "    <tr>\n",
       "      <th>3</th>\n",
       "      <td>1</td>\n",
       "      <td>7275</td>\n",
       "      <td>6.000000</td>\n",
       "    </tr>\n",
       "    <tr>\n",
       "      <th>4</th>\n",
       "      <td>1</td>\n",
       "      <td>8723</td>\n",
       "      <td>2.000000</td>\n",
       "    </tr>\n",
       "    <tr>\n",
       "      <th>5</th>\n",
       "      <td>1</td>\n",
       "      <td>10315</td>\n",
       "      <td>2.000000</td>\n",
       "    </tr>\n",
       "    <tr>\n",
       "      <th>6</th>\n",
       "      <td>1</td>\n",
       "      <td>11119</td>\n",
       "      <td>1.000000</td>\n",
       "    </tr>\n",
       "    <tr>\n",
       "      <th>7</th>\n",
       "      <td>1</td>\n",
       "      <td>12892</td>\n",
       "      <td>17.000000</td>\n",
       "    </tr>\n",
       "    <tr>\n",
       "      <th>8</th>\n",
       "      <td>1</td>\n",
       "      <td>18586</td>\n",
       "      <td>5.000000</td>\n",
       "    </tr>\n",
       "    <tr>\n",
       "      <th>9</th>\n",
       "      <td>1</td>\n",
       "      <td>20535</td>\n",
       "      <td>6.000000</td>\n",
       "    </tr>\n",
       "  </tbody>\n",
       "</table>\n",
       "</div>"
      ],
      "text/plain": [
       "   product_id  user_id  user_product_avg_add_to_cart_order\n",
       "0           1     1494                           12.666667\n",
       "1           1     3010                           11.000000\n",
       "2           1     4122                            1.000000\n",
       "3           1     7275                            6.000000\n",
       "4           1     8723                            2.000000\n",
       "5           1    10315                            2.000000\n",
       "6           1    11119                            1.000000\n",
       "7           1    12892                           17.000000\n",
       "8           1    18586                            5.000000\n",
       "9           1    20535                            6.000000"
      ]
     },
     "execution_count": 40,
     "metadata": {},
     "output_type": "execute_result"
    }
   ],
   "source": [
    "Feature_Products_User = ['user_product_avg_add_to_cart_order']\n",
    "\n",
    "daataframe_Feature_Products_User = (daataframe_order_products_prior.groupby(['product_id','user_id'],as_index=False) \\\n",
    "                                                .agg(OrderedDict(\n",
    "                                                     [('add_to_cart_order','mean')])))\n",
    "\n",
    "daataframe_Feature_Products_User.columns = ['product_id','user_id'] + Feature_Products_User \n",
    "daataframe_Feature_Products_User.head(10)"
   ]
  },
  {
   "cell_type": "code",
   "execution_count": 41,
   "metadata": {
    "ExecuteTime": {
     "end_time": "2019-02-12T00:04:50.678250Z",
     "start_time": "2019-02-12T00:04:49.813167Z"
    }
   },
   "outputs": [],
   "source": [
    "daataframe_X = daataframe_X.merge(daataframe_Feature_Products_User,on=['user_id','product_id'])"
   ]
  },
  {
   "cell_type": "code",
   "execution_count": 42,
   "metadata": {
    "ExecuteTime": {
     "end_time": "2019-02-12T00:04:50.717293Z",
     "start_time": "2019-02-12T00:04:50.682255Z"
    }
   },
   "outputs": [
    {
     "data": {
      "text/html": [
       "<div>\n",
       "<style scoped>\n",
       "    .dataframe tbody tr th:only-of-type {\n",
       "        vertical-align: middle;\n",
       "    }\n",
       "\n",
       "    .dataframe tbody tr th {\n",
       "        vertical-align: top;\n",
       "    }\n",
       "\n",
       "    .dataframe thead th {\n",
       "        text-align: right;\n",
       "    }\n",
       "</style>\n",
       "<table border=\"1\" class=\"dataframe\">\n",
       "  <thead>\n",
       "    <tr style=\"text-align: right;\">\n",
       "      <th></th>\n",
       "      <th>product_id</th>\n",
       "      <th>user_id</th>\n",
       "      <th>user_product_total_orders</th>\n",
       "      <th>latest_cart</th>\n",
       "      <th>in_cart</th>\n",
       "      <th>product_total_orders</th>\n",
       "      <th>product_avg_add_to_cart_order</th>\n",
       "      <th>user_total_orders</th>\n",
       "      <th>user_avg_cartsize</th>\n",
       "      <th>user_total_products</th>\n",
       "      <th>user_avg_days_since_prior_order</th>\n",
       "      <th>user_product_avg_add_to_cart_order</th>\n",
       "      <th>user_product_order_freq</th>\n",
       "    </tr>\n",
       "  </thead>\n",
       "  <tbody>\n",
       "    <tr>\n",
       "      <th>0</th>\n",
       "      <td>1</td>\n",
       "      <td>1494</td>\n",
       "      <td>3</td>\n",
       "      <td>{44560}</td>\n",
       "      <td>0</td>\n",
       "      <td>195</td>\n",
       "      <td>5.579487</td>\n",
       "      <td>13</td>\n",
       "      <td>12.153846</td>\n",
       "      <td>71</td>\n",
       "      <td>6.283582</td>\n",
       "      <td>12.666667</td>\n",
       "      <td>0.230769</td>\n",
       "    </tr>\n",
       "    <tr>\n",
       "      <th>1</th>\n",
       "      <td>130</td>\n",
       "      <td>1494</td>\n",
       "      <td>2</td>\n",
       "      <td>{44560}</td>\n",
       "      <td>0</td>\n",
       "      <td>393</td>\n",
       "      <td>4.282443</td>\n",
       "      <td>13</td>\n",
       "      <td>12.153846</td>\n",
       "      <td>71</td>\n",
       "      <td>6.283582</td>\n",
       "      <td>7.000000</td>\n",
       "      <td>0.153846</td>\n",
       "    </tr>\n",
       "    <tr>\n",
       "      <th>2</th>\n",
       "      <td>397</td>\n",
       "      <td>1494</td>\n",
       "      <td>1</td>\n",
       "      <td>{44560}</td>\n",
       "      <td>0</td>\n",
       "      <td>406</td>\n",
       "      <td>8.566502</td>\n",
       "      <td>13</td>\n",
       "      <td>12.153846</td>\n",
       "      <td>71</td>\n",
       "      <td>6.283582</td>\n",
       "      <td>11.000000</td>\n",
       "      <td>0.076923</td>\n",
       "    </tr>\n",
       "    <tr>\n",
       "      <th>3</th>\n",
       "      <td>881</td>\n",
       "      <td>1494</td>\n",
       "      <td>1</td>\n",
       "      <td>{44560}</td>\n",
       "      <td>0</td>\n",
       "      <td>228</td>\n",
       "      <td>9.662281</td>\n",
       "      <td>13</td>\n",
       "      <td>12.153846</td>\n",
       "      <td>71</td>\n",
       "      <td>6.283582</td>\n",
       "      <td>14.000000</td>\n",
       "      <td>0.076923</td>\n",
       "    </tr>\n",
       "    <tr>\n",
       "      <th>4</th>\n",
       "      <td>1004</td>\n",
       "      <td>1494</td>\n",
       "      <td>2</td>\n",
       "      <td>{44560}</td>\n",
       "      <td>0</td>\n",
       "      <td>34</td>\n",
       "      <td>12.794118</td>\n",
       "      <td>13</td>\n",
       "      <td>12.153846</td>\n",
       "      <td>71</td>\n",
       "      <td>6.283582</td>\n",
       "      <td>14.000000</td>\n",
       "      <td>0.153846</td>\n",
       "    </tr>\n",
       "  </tbody>\n",
       "</table>\n",
       "</div>"
      ],
      "text/plain": [
       "   product_id  user_id  user_product_total_orders latest_cart  in_cart  \\\n",
       "0           1     1494                          3     {44560}        0   \n",
       "1         130     1494                          2     {44560}        0   \n",
       "2         397     1494                          1     {44560}        0   \n",
       "3         881     1494                          1     {44560}        0   \n",
       "4        1004     1494                          2     {44560}        0   \n",
       "\n",
       "   product_total_orders  product_avg_add_to_cart_order  user_total_orders  \\\n",
       "0                   195                       5.579487                 13   \n",
       "1                   393                       4.282443                 13   \n",
       "2                   406                       8.566502                 13   \n",
       "3                   228                       9.662281                 13   \n",
       "4                    34                      12.794118                 13   \n",
       "\n",
       "   user_avg_cartsize  user_total_products  user_avg_days_since_prior_order  \\\n",
       "0          12.153846                   71                         6.283582   \n",
       "1          12.153846                   71                         6.283582   \n",
       "2          12.153846                   71                         6.283582   \n",
       "3          12.153846                   71                         6.283582   \n",
       "4          12.153846                   71                         6.283582   \n",
       "\n",
       "   user_product_avg_add_to_cart_order  user_product_order_freq  \n",
       "0                           12.666667                 0.230769  \n",
       "1                            7.000000                 0.153846  \n",
       "2                           11.000000                 0.076923  \n",
       "3                           14.000000                 0.076923  \n",
       "4                           14.000000                 0.153846  "
      ]
     },
     "execution_count": 42,
     "metadata": {},
     "output_type": "execute_result"
    }
   ],
   "source": [
    "daataframe_X['user_product_order_freq'] = daataframe_X['user_product_total_orders'] / daataframe_X['user_total_orders'] \n",
    "daataframe_X.head(5)"
   ]
  },
  {
   "cell_type": "code",
   "execution_count": 43,
   "metadata": {
    "ExecuteTime": {
     "end_time": "2019-02-12T00:05:02.060973Z",
     "start_time": "2019-02-12T00:04:50.733415Z"
    }
   },
   "outputs": [
    {
     "name": "stderr",
     "output_type": "stream",
     "text": [
      "C:\\Users\\LENOVO\\AppData\\Roaming\\Python\\Python38\\site-packages\\sklearn\\linear_model\\_logistic.py:763: ConvergenceWarning: lbfgs failed to converge (status=1):\n",
      "STOP: TOTAL NO. of ITERATIONS REACHED LIMIT.\n",
      "\n",
      "Increase the number of iterations (max_iter) or scale the data as shown in:\n",
      "    https://scikit-learn.org/stable/modules/preprocessing.html\n",
      "Please also refer to the documentation for alternative solver options:\n",
      "    https://scikit-learn.org/stable/modules/linear_model.html#logistic-regression\n",
      "  n_iter_i = _check_optimize_result(\n"
     ]
    },
    {
     "data": {
      "text/plain": [
       "0.15588115588115586"
      ]
     },
     "execution_count": 43,
     "metadata": {},
     "output_type": "execute_result"
    }
   ],
   "source": [
    "X_Train, X_Test, y_Train, y_Test = GetUserSplitData(daataframe_X)\n",
    "\n",
    "logistic_regression_grocery = LogisticRegression()\n",
    "logistic_regression_grocery.fit(X_Train, y_Train)\n",
    "f1_score(logistic_regression_grocery.predict(X_Test), y_Test)"
   ]
  },
  {
   "cell_type": "code",
   "execution_count": 44,
   "metadata": {
    "ExecuteTime": {
     "end_time": "2019-02-12T00:05:02.074331Z",
     "start_time": "2019-02-12T00:05:02.064301Z"
    }
   },
   "outputs": [
    {
     "data": {
      "text/plain": [
       "array([[ 1.98704106e-01,  1.28911604e-05, -1.48271117e-01,\n",
       "        -4.32029927e-02,  3.18801571e-02, -3.66448086e-03,\n",
       "        -3.37473514e-02, -3.05184011e-02,  1.23045588e-02]])"
      ]
     },
     "execution_count": 44,
     "metadata": {},
     "output_type": "execute_result"
    }
   ],
   "source": [
    "logistic_regression_grocery.coef_"
   ]
  },
  {
   "cell_type": "code",
   "execution_count": 45,
   "metadata": {
    "ExecuteTime": {
     "end_time": "2019-02-12T00:05:02.368619Z",
     "start_time": "2019-02-12T00:05:02.078267Z"
    }
   },
   "outputs": [],
   "source": [
    "Feature_Product_Dataframe = (daataframe_order_products_prior.groupby(['product_id'], as_index=False)\n",
    "                     .agg(OrderedDict(\n",
    "                         [('reordered','sum')])))\n",
    "\n",
    "Feature_Product_Dataframe.columns = ['product_id','product_reorder_count']"
   ]
  },
  {
   "cell_type": "code",
   "execution_count": 46,
   "metadata": {
    "ExecuteTime": {
     "end_time": "2019-02-12T00:05:03.075292Z",
     "start_time": "2019-02-12T00:05:02.372320Z"
    },
    "scrolled": true
   },
   "outputs": [
    {
     "data": {
      "text/html": [
       "<div>\n",
       "<style scoped>\n",
       "    .dataframe tbody tr th:only-of-type {\n",
       "        vertical-align: middle;\n",
       "    }\n",
       "\n",
       "    .dataframe tbody tr th {\n",
       "        vertical-align: top;\n",
       "    }\n",
       "\n",
       "    .dataframe thead th {\n",
       "        text-align: right;\n",
       "    }\n",
       "</style>\n",
       "<table border=\"1\" class=\"dataframe\">\n",
       "  <thead>\n",
       "    <tr style=\"text-align: right;\">\n",
       "      <th></th>\n",
       "      <th>product_id</th>\n",
       "      <th>user_id</th>\n",
       "      <th>user_product_total_orders</th>\n",
       "      <th>latest_cart</th>\n",
       "      <th>in_cart</th>\n",
       "      <th>product_total_orders</th>\n",
       "      <th>product_avg_add_to_cart_order</th>\n",
       "      <th>user_total_orders</th>\n",
       "      <th>user_avg_cartsize</th>\n",
       "      <th>user_total_products</th>\n",
       "      <th>user_avg_days_since_prior_order</th>\n",
       "      <th>user_product_avg_add_to_cart_order</th>\n",
       "      <th>user_product_order_freq</th>\n",
       "      <th>product_reorder_count</th>\n",
       "    </tr>\n",
       "  </thead>\n",
       "  <tbody>\n",
       "    <tr>\n",
       "      <th>0</th>\n",
       "      <td>1</td>\n",
       "      <td>1494</td>\n",
       "      <td>3</td>\n",
       "      <td>{44560}</td>\n",
       "      <td>0</td>\n",
       "      <td>195</td>\n",
       "      <td>5.579487</td>\n",
       "      <td>13</td>\n",
       "      <td>12.153846</td>\n",
       "      <td>71</td>\n",
       "      <td>6.283582</td>\n",
       "      <td>12.666667</td>\n",
       "      <td>0.230769</td>\n",
       "      <td>110</td>\n",
       "    </tr>\n",
       "    <tr>\n",
       "      <th>1</th>\n",
       "      <td>1</td>\n",
       "      <td>3010</td>\n",
       "      <td>1</td>\n",
       "      <td>{26088, 20940, 26348, 32689, 6008, 13176}</td>\n",
       "      <td>0</td>\n",
       "      <td>195</td>\n",
       "      <td>5.579487</td>\n",
       "      <td>13</td>\n",
       "      <td>9.615385</td>\n",
       "      <td>64</td>\n",
       "      <td>6.859649</td>\n",
       "      <td>11.000000</td>\n",
       "      <td>0.076923</td>\n",
       "      <td>110</td>\n",
       "    </tr>\n",
       "    <tr>\n",
       "      <th>2</th>\n",
       "      <td>1</td>\n",
       "      <td>10315</td>\n",
       "      <td>1</td>\n",
       "      <td>{21386}</td>\n",
       "      <td>0</td>\n",
       "      <td>195</td>\n",
       "      <td>5.579487</td>\n",
       "      <td>5</td>\n",
       "      <td>1.800000</td>\n",
       "      <td>3</td>\n",
       "      <td>9.142857</td>\n",
       "      <td>2.000000</td>\n",
       "      <td>0.200000</td>\n",
       "      <td>110</td>\n",
       "    </tr>\n",
       "    <tr>\n",
       "      <th>3</th>\n",
       "      <td>1</td>\n",
       "      <td>11119</td>\n",
       "      <td>1</td>\n",
       "      <td>{17122, 8803, 43352, 41400, 5769, 14477, 21903...</td>\n",
       "      <td>0</td>\n",
       "      <td>195</td>\n",
       "      <td>5.579487</td>\n",
       "      <td>23</td>\n",
       "      <td>4.478261</td>\n",
       "      <td>41</td>\n",
       "      <td>16.021053</td>\n",
       "      <td>1.000000</td>\n",
       "      <td>0.043478</td>\n",
       "      <td>110</td>\n",
       "    </tr>\n",
       "    <tr>\n",
       "      <th>4</th>\n",
       "      <td>1</td>\n",
       "      <td>12892</td>\n",
       "      <td>1</td>\n",
       "      <td>{43136, 5161, 17720}</td>\n",
       "      <td>0</td>\n",
       "      <td>195</td>\n",
       "      <td>5.579487</td>\n",
       "      <td>19</td>\n",
       "      <td>3.473684</td>\n",
       "      <td>36</td>\n",
       "      <td>9.615385</td>\n",
       "      <td>17.000000</td>\n",
       "      <td>0.052632</td>\n",
       "      <td>110</td>\n",
       "    </tr>\n",
       "  </tbody>\n",
       "</table>\n",
       "</div>"
      ],
      "text/plain": [
       "   product_id  user_id  user_product_total_orders  \\\n",
       "0           1     1494                          3   \n",
       "1           1     3010                          1   \n",
       "2           1    10315                          1   \n",
       "3           1    11119                          1   \n",
       "4           1    12892                          1   \n",
       "\n",
       "                                         latest_cart  in_cart  \\\n",
       "0                                            {44560}        0   \n",
       "1          {26088, 20940, 26348, 32689, 6008, 13176}        0   \n",
       "2                                            {21386}        0   \n",
       "3  {17122, 8803, 43352, 41400, 5769, 14477, 21903...        0   \n",
       "4                               {43136, 5161, 17720}        0   \n",
       "\n",
       "   product_total_orders  product_avg_add_to_cart_order  user_total_orders  \\\n",
       "0                   195                       5.579487                 13   \n",
       "1                   195                       5.579487                 13   \n",
       "2                   195                       5.579487                  5   \n",
       "3                   195                       5.579487                 23   \n",
       "4                   195                       5.579487                 19   \n",
       "\n",
       "   user_avg_cartsize  user_total_products  user_avg_days_since_prior_order  \\\n",
       "0          12.153846                   71                         6.283582   \n",
       "1           9.615385                   64                         6.859649   \n",
       "2           1.800000                    3                         9.142857   \n",
       "3           4.478261                   41                        16.021053   \n",
       "4           3.473684                   36                         9.615385   \n",
       "\n",
       "   user_product_avg_add_to_cart_order  user_product_order_freq  \\\n",
       "0                           12.666667                 0.230769   \n",
       "1                           11.000000                 0.076923   \n",
       "2                            2.000000                 0.200000   \n",
       "3                            1.000000                 0.043478   \n",
       "4                           17.000000                 0.052632   \n",
       "\n",
       "   product_reorder_count  \n",
       "0                    110  \n",
       "1                    110  \n",
       "2                    110  \n",
       "3                    110  \n",
       "4                    110  "
      ]
     },
     "execution_count": 46,
     "metadata": {},
     "output_type": "execute_result"
    }
   ],
   "source": [
    "daataframe_X = daataframe_X.merge(Feature_Product_Dataframe, on='product_id')\n",
    "daataframe_X.head(5)"
   ]
  },
  {
   "cell_type": "code",
   "execution_count": 47,
   "metadata": {
    "ExecuteTime": {
     "end_time": "2019-02-12T00:05:03.283512Z",
     "start_time": "2019-02-12T00:05:03.078664Z"
    }
   },
   "outputs": [],
   "source": [
    "daataframe_X['product_reorder_prob'] = daataframe_X['product_reorder_count'] / daataframe_X['product_total_orders']\n",
    "daataframe_X = daataframe_X.drop(columns = 'product_reorder_count')"
   ]
  },
  {
   "cell_type": "code",
   "execution_count": 48,
   "metadata": {
    "ExecuteTime": {
     "end_time": "2019-02-12T00:05:13.958503Z",
     "start_time": "2019-02-12T00:05:03.286906Z"
    }
   },
   "outputs": [
    {
     "name": "stderr",
     "output_type": "stream",
     "text": [
      "C:\\Users\\LENOVO\\AppData\\Roaming\\Python\\Python38\\site-packages\\sklearn\\linear_model\\_logistic.py:763: ConvergenceWarning: lbfgs failed to converge (status=1):\n",
      "STOP: TOTAL NO. of ITERATIONS REACHED LIMIT.\n",
      "\n",
      "Increase the number of iterations (max_iter) or scale the data as shown in:\n",
      "    https://scikit-learn.org/stable/modules/preprocessing.html\n",
      "Please also refer to the documentation for alternative solver options:\n",
      "    https://scikit-learn.org/stable/modules/linear_model.html#logistic-regression\n",
      "  n_iter_i = _check_optimize_result(\n"
     ]
    },
    {
     "data": {
      "text/plain": [
       "0.15094532447623915"
      ]
     },
     "execution_count": 48,
     "metadata": {},
     "output_type": "execute_result"
    }
   ],
   "source": [
    "X_Train, X_Test, y_Train, y_Test = GetUserSplitData(daataframe_X)\n",
    "\n",
    "logistic_regression_grocery = LogisticRegression()\n",
    "logistic_regression_grocery.fit(X_Train, y_Train)\n",
    "f1_score(logistic_regression_grocery.predict(X_Test), y_Test)"
   ]
  },
  {
   "cell_type": "code",
   "execution_count": 50,
   "metadata": {
    "ExecuteTime": {
     "end_time": "2019-02-12T00:05:15.095615Z",
     "start_time": "2019-02-12T00:05:13.962888Z"
    }
   },
   "outputs": [
    {
     "data": {
      "text/html": [
       "<div>\n",
       "<style scoped>\n",
       "    .dataframe tbody tr th:only-of-type {\n",
       "        vertical-align: middle;\n",
       "    }\n",
       "\n",
       "    .dataframe tbody tr th {\n",
       "        vertical-align: top;\n",
       "    }\n",
       "\n",
       "    .dataframe thead th {\n",
       "        text-align: right;\n",
       "    }\n",
       "</style>\n",
       "<table border=\"1\" class=\"dataframe\">\n",
       "  <thead>\n",
       "    <tr style=\"text-align: right;\">\n",
       "      <th></th>\n",
       "      <th>order_id</th>\n",
       "      <th>product_id</th>\n",
       "      <th>add_to_cart_order</th>\n",
       "      <th>reordered</th>\n",
       "      <th>user_id</th>\n",
       "      <th>order_number</th>\n",
       "      <th>order_dow</th>\n",
       "      <th>order_hour_of_day</th>\n",
       "      <th>days_since_prior_order</th>\n",
       "    </tr>\n",
       "  </thead>\n",
       "  <tbody>\n",
       "    <tr>\n",
       "      <th>0</th>\n",
       "      <td>6</td>\n",
       "      <td>40462</td>\n",
       "      <td>1</td>\n",
       "      <td>0</td>\n",
       "      <td>22352</td>\n",
       "      <td>4</td>\n",
       "      <td>1</td>\n",
       "      <td>12</td>\n",
       "      <td>30.0</td>\n",
       "    </tr>\n",
       "    <tr>\n",
       "      <th>1</th>\n",
       "      <td>6</td>\n",
       "      <td>15873</td>\n",
       "      <td>2</td>\n",
       "      <td>0</td>\n",
       "      <td>22352</td>\n",
       "      <td>4</td>\n",
       "      <td>1</td>\n",
       "      <td>12</td>\n",
       "      <td>30.0</td>\n",
       "    </tr>\n",
       "    <tr>\n",
       "      <th>2</th>\n",
       "      <td>6</td>\n",
       "      <td>41897</td>\n",
       "      <td>3</td>\n",
       "      <td>0</td>\n",
       "      <td>22352</td>\n",
       "      <td>4</td>\n",
       "      <td>1</td>\n",
       "      <td>12</td>\n",
       "      <td>30.0</td>\n",
       "    </tr>\n",
       "    <tr>\n",
       "      <th>3</th>\n",
       "      <td>12</td>\n",
       "      <td>30597</td>\n",
       "      <td>1</td>\n",
       "      <td>1</td>\n",
       "      <td>152610</td>\n",
       "      <td>22</td>\n",
       "      <td>6</td>\n",
       "      <td>8</td>\n",
       "      <td>10.0</td>\n",
       "    </tr>\n",
       "    <tr>\n",
       "      <th>4</th>\n",
       "      <td>12</td>\n",
       "      <td>15221</td>\n",
       "      <td>2</td>\n",
       "      <td>1</td>\n",
       "      <td>152610</td>\n",
       "      <td>22</td>\n",
       "      <td>6</td>\n",
       "      <td>8</td>\n",
       "      <td>10.0</td>\n",
       "    </tr>\n",
       "  </tbody>\n",
       "</table>\n",
       "</div>"
      ],
      "text/plain": [
       "   order_id  product_id  add_to_cart_order  reordered  user_id  order_number  \\\n",
       "0         6       40462                  1          0    22352             4   \n",
       "1         6       15873                  2          0    22352             4   \n",
       "2         6       41897                  3          0    22352             4   \n",
       "3        12       30597                  1          1   152610            22   \n",
       "4        12       15221                  2          1   152610            22   \n",
       "\n",
       "   order_dow  order_hour_of_day  days_since_prior_order  \n",
       "0          1                 12                    30.0  \n",
       "1          1                 12                    30.0  \n",
       "2          1                 12                    30.0  \n",
       "3          6                  8                    10.0  \n",
       "4          6                  8                    10.0  "
      ]
     },
     "execution_count": 50,
     "metadata": {},
     "output_type": "execute_result"
    }
   ],
   "source": [
    "NoNull_daataframe = daataframe_order_products_prior.dropna()\n",
    "NoNull_daataframe.head(5)"
   ]
  },
  {
   "cell_type": "code",
   "execution_count": 53,
   "metadata": {
    "ExecuteTime": {
     "end_time": "2019-02-12T00:05:15.269317Z",
     "start_time": "2019-02-12T00:05:15.099392Z"
    }
   },
   "outputs": [],
   "source": [
    "NoNull_daataframe = pd.DataFrame(NoNull_daataframe.groupby('product_id')['days_since_prior_order'].count())"
   ]
  },
  {
   "cell_type": "code",
   "execution_count": 55,
   "metadata": {
    "ExecuteTime": {
     "end_time": "2019-02-12T00:05:15.470264Z",
     "start_time": "2019-02-12T00:05:15.274479Z"
    }
   },
   "outputs": [],
   "source": [
    "Features2_Product_daataframe = pd.DataFrame(daataframe_order_products_prior.groupby(['product_id'])['reordered'].sum())"
   ]
  },
  {
   "cell_type": "code",
   "execution_count": 56,
   "metadata": {
    "ExecuteTime": {
     "end_time": "2019-02-12T00:05:15.521040Z",
     "start_time": "2019-02-12T00:05:15.473493Z"
    }
   },
   "outputs": [
    {
     "data": {
      "text/plain": [
       "(40760, 2)"
      ]
     },
     "execution_count": 56,
     "metadata": {},
     "output_type": "execute_result"
    }
   ],
   "source": [
    "Features2_Product_daataframe = Features2_Product_daataframe.merge(NoNull_daataframe, on='product_id')\n",
    "Features2_Product_daataframe.shape"
   ]
  },
  {
   "cell_type": "code",
   "execution_count": 57,
   "metadata": {
    "ExecuteTime": {
     "end_time": "2019-02-12T00:05:15.534937Z",
     "start_time": "2019-02-12T00:05:15.524633Z"
    }
   },
   "outputs": [],
   "source": [
    "Features2_Product_daataframe['product_reorder_prob_x_first'] = Features2_Product_daataframe['reordered'] / Features2_Product_daataframe['days_since_prior_order']"
   ]
  },
  {
   "cell_type": "code",
   "execution_count": 58,
   "metadata": {
    "ExecuteTime": {
     "end_time": "2019-02-12T00:05:15.559462Z",
     "start_time": "2019-02-12T00:05:15.540156Z"
    }
   },
   "outputs": [],
   "source": [
    "Features2_Product_daataframe = Features2_Product_daataframe.drop(columns = ['reordered','days_since_prior_order'])"
   ]
  },
  {
   "cell_type": "code",
   "execution_count": 59,
   "metadata": {
    "ExecuteTime": {
     "end_time": "2019-02-12T00:05:16.010597Z",
     "start_time": "2019-02-12T00:05:15.562754Z"
    }
   },
   "outputs": [
    {
     "data": {
      "text/html": [
       "<div>\n",
       "<style scoped>\n",
       "    .dataframe tbody tr th:only-of-type {\n",
       "        vertical-align: middle;\n",
       "    }\n",
       "\n",
       "    .dataframe tbody tr th {\n",
       "        vertical-align: top;\n",
       "    }\n",
       "\n",
       "    .dataframe thead th {\n",
       "        text-align: right;\n",
       "    }\n",
       "</style>\n",
       "<table border=\"1\" class=\"dataframe\">\n",
       "  <thead>\n",
       "    <tr style=\"text-align: right;\">\n",
       "      <th></th>\n",
       "      <th>product_id</th>\n",
       "      <th>user_id</th>\n",
       "      <th>user_product_total_orders</th>\n",
       "      <th>latest_cart</th>\n",
       "      <th>in_cart</th>\n",
       "      <th>product_total_orders</th>\n",
       "      <th>product_avg_add_to_cart_order</th>\n",
       "      <th>user_total_orders</th>\n",
       "      <th>user_avg_cartsize</th>\n",
       "      <th>user_total_products</th>\n",
       "      <th>user_avg_days_since_prior_order</th>\n",
       "      <th>user_product_avg_add_to_cart_order</th>\n",
       "      <th>user_product_order_freq</th>\n",
       "      <th>product_reorder_prob</th>\n",
       "      <th>product_reorder_prob_x_first</th>\n",
       "    </tr>\n",
       "  </thead>\n",
       "  <tbody>\n",
       "    <tr>\n",
       "      <th>0</th>\n",
       "      <td>1</td>\n",
       "      <td>1494</td>\n",
       "      <td>3</td>\n",
       "      <td>{44560}</td>\n",
       "      <td>0</td>\n",
       "      <td>195</td>\n",
       "      <td>5.579487</td>\n",
       "      <td>13</td>\n",
       "      <td>12.153846</td>\n",
       "      <td>71</td>\n",
       "      <td>6.283582</td>\n",
       "      <td>12.666667</td>\n",
       "      <td>0.230769</td>\n",
       "      <td>0.564103</td>\n",
       "      <td>0.601093</td>\n",
       "    </tr>\n",
       "    <tr>\n",
       "      <th>1</th>\n",
       "      <td>1</td>\n",
       "      <td>3010</td>\n",
       "      <td>1</td>\n",
       "      <td>{26088, 20940, 26348, 32689, 6008, 13176}</td>\n",
       "      <td>0</td>\n",
       "      <td>195</td>\n",
       "      <td>5.579487</td>\n",
       "      <td>13</td>\n",
       "      <td>9.615385</td>\n",
       "      <td>64</td>\n",
       "      <td>6.859649</td>\n",
       "      <td>11.000000</td>\n",
       "      <td>0.076923</td>\n",
       "      <td>0.564103</td>\n",
       "      <td>0.601093</td>\n",
       "    </tr>\n",
       "    <tr>\n",
       "      <th>2</th>\n",
       "      <td>1</td>\n",
       "      <td>10315</td>\n",
       "      <td>1</td>\n",
       "      <td>{21386}</td>\n",
       "      <td>0</td>\n",
       "      <td>195</td>\n",
       "      <td>5.579487</td>\n",
       "      <td>5</td>\n",
       "      <td>1.800000</td>\n",
       "      <td>3</td>\n",
       "      <td>9.142857</td>\n",
       "      <td>2.000000</td>\n",
       "      <td>0.200000</td>\n",
       "      <td>0.564103</td>\n",
       "      <td>0.601093</td>\n",
       "    </tr>\n",
       "    <tr>\n",
       "      <th>3</th>\n",
       "      <td>1</td>\n",
       "      <td>11119</td>\n",
       "      <td>1</td>\n",
       "      <td>{17122, 8803, 43352, 41400, 5769, 14477, 21903...</td>\n",
       "      <td>0</td>\n",
       "      <td>195</td>\n",
       "      <td>5.579487</td>\n",
       "      <td>23</td>\n",
       "      <td>4.478261</td>\n",
       "      <td>41</td>\n",
       "      <td>16.021053</td>\n",
       "      <td>1.000000</td>\n",
       "      <td>0.043478</td>\n",
       "      <td>0.564103</td>\n",
       "      <td>0.601093</td>\n",
       "    </tr>\n",
       "    <tr>\n",
       "      <th>4</th>\n",
       "      <td>1</td>\n",
       "      <td>12892</td>\n",
       "      <td>1</td>\n",
       "      <td>{43136, 5161, 17720}</td>\n",
       "      <td>0</td>\n",
       "      <td>195</td>\n",
       "      <td>5.579487</td>\n",
       "      <td>19</td>\n",
       "      <td>3.473684</td>\n",
       "      <td>36</td>\n",
       "      <td>9.615385</td>\n",
       "      <td>17.000000</td>\n",
       "      <td>0.052632</td>\n",
       "      <td>0.564103</td>\n",
       "      <td>0.601093</td>\n",
       "    </tr>\n",
       "    <tr>\n",
       "      <th>5</th>\n",
       "      <td>1</td>\n",
       "      <td>18586</td>\n",
       "      <td>2</td>\n",
       "      <td>{196, 9477, 37710}</td>\n",
       "      <td>0</td>\n",
       "      <td>195</td>\n",
       "      <td>5.579487</td>\n",
       "      <td>12</td>\n",
       "      <td>3.416667</td>\n",
       "      <td>20</td>\n",
       "      <td>23.102564</td>\n",
       "      <td>5.000000</td>\n",
       "      <td>0.166667</td>\n",
       "      <td>0.564103</td>\n",
       "      <td>0.601093</td>\n",
       "    </tr>\n",
       "    <tr>\n",
       "      <th>6</th>\n",
       "      <td>1</td>\n",
       "      <td>20687</td>\n",
       "      <td>1</td>\n",
       "      <td>{8958}</td>\n",
       "      <td>0</td>\n",
       "      <td>195</td>\n",
       "      <td>5.579487</td>\n",
       "      <td>73</td>\n",
       "      <td>3.506849</td>\n",
       "      <td>43</td>\n",
       "      <td>5.248996</td>\n",
       "      <td>3.000000</td>\n",
       "      <td>0.013699</td>\n",
       "      <td>0.564103</td>\n",
       "      <td>0.601093</td>\n",
       "    </tr>\n",
       "    <tr>\n",
       "      <th>7</th>\n",
       "      <td>1</td>\n",
       "      <td>21219</td>\n",
       "      <td>1</td>\n",
       "      <td>{653, 39190, 29463, 46107, 10662, 17191, 33959...</td>\n",
       "      <td>0</td>\n",
       "      <td>195</td>\n",
       "      <td>5.579487</td>\n",
       "      <td>50</td>\n",
       "      <td>12.000000</td>\n",
       "      <td>242</td>\n",
       "      <td>6.922034</td>\n",
       "      <td>10.000000</td>\n",
       "      <td>0.020000</td>\n",
       "      <td>0.564103</td>\n",
       "      <td>0.601093</td>\n",
       "    </tr>\n",
       "    <tr>\n",
       "      <th>8</th>\n",
       "      <td>1</td>\n",
       "      <td>24324</td>\n",
       "      <td>6</td>\n",
       "      <td>{43459, 40709, 36551, 25513, 45321, 37178, 441...</td>\n",
       "      <td>0</td>\n",
       "      <td>195</td>\n",
       "      <td>5.579487</td>\n",
       "      <td>26</td>\n",
       "      <td>15.038462</td>\n",
       "      <td>113</td>\n",
       "      <td>10.152850</td>\n",
       "      <td>8.833333</td>\n",
       "      <td>0.230769</td>\n",
       "      <td>0.564103</td>\n",
       "      <td>0.601093</td>\n",
       "    </tr>\n",
       "    <tr>\n",
       "      <th>9</th>\n",
       "      <td>1</td>\n",
       "      <td>30618</td>\n",
       "      <td>3</td>\n",
       "      <td>{37317, 46058, 22507, 8079, 12341, 4920, 28413...</td>\n",
       "      <td>0</td>\n",
       "      <td>195</td>\n",
       "      <td>5.579487</td>\n",
       "      <td>18</td>\n",
       "      <td>8.111111</td>\n",
       "      <td>24</td>\n",
       "      <td>9.280576</td>\n",
       "      <td>7.666667</td>\n",
       "      <td>0.166667</td>\n",
       "      <td>0.564103</td>\n",
       "      <td>0.601093</td>\n",
       "    </tr>\n",
       "  </tbody>\n",
       "</table>\n",
       "</div>"
      ],
      "text/plain": [
       "   product_id  user_id  user_product_total_orders  \\\n",
       "0           1     1494                          3   \n",
       "1           1     3010                          1   \n",
       "2           1    10315                          1   \n",
       "3           1    11119                          1   \n",
       "4           1    12892                          1   \n",
       "5           1    18586                          2   \n",
       "6           1    20687                          1   \n",
       "7           1    21219                          1   \n",
       "8           1    24324                          6   \n",
       "9           1    30618                          3   \n",
       "\n",
       "                                         latest_cart  in_cart  \\\n",
       "0                                            {44560}        0   \n",
       "1          {26088, 20940, 26348, 32689, 6008, 13176}        0   \n",
       "2                                            {21386}        0   \n",
       "3  {17122, 8803, 43352, 41400, 5769, 14477, 21903...        0   \n",
       "4                               {43136, 5161, 17720}        0   \n",
       "5                                 {196, 9477, 37710}        0   \n",
       "6                                             {8958}        0   \n",
       "7  {653, 39190, 29463, 46107, 10662, 17191, 33959...        0   \n",
       "8  {43459, 40709, 36551, 25513, 45321, 37178, 441...        0   \n",
       "9  {37317, 46058, 22507, 8079, 12341, 4920, 28413...        0   \n",
       "\n",
       "   product_total_orders  product_avg_add_to_cart_order  user_total_orders  \\\n",
       "0                   195                       5.579487                 13   \n",
       "1                   195                       5.579487                 13   \n",
       "2                   195                       5.579487                  5   \n",
       "3                   195                       5.579487                 23   \n",
       "4                   195                       5.579487                 19   \n",
       "5                   195                       5.579487                 12   \n",
       "6                   195                       5.579487                 73   \n",
       "7                   195                       5.579487                 50   \n",
       "8                   195                       5.579487                 26   \n",
       "9                   195                       5.579487                 18   \n",
       "\n",
       "   user_avg_cartsize  user_total_products  user_avg_days_since_prior_order  \\\n",
       "0          12.153846                   71                         6.283582   \n",
       "1           9.615385                   64                         6.859649   \n",
       "2           1.800000                    3                         9.142857   \n",
       "3           4.478261                   41                        16.021053   \n",
       "4           3.473684                   36                         9.615385   \n",
       "5           3.416667                   20                        23.102564   \n",
       "6           3.506849                   43                         5.248996   \n",
       "7          12.000000                  242                         6.922034   \n",
       "8          15.038462                  113                        10.152850   \n",
       "9           8.111111                   24                         9.280576   \n",
       "\n",
       "   user_product_avg_add_to_cart_order  user_product_order_freq  \\\n",
       "0                           12.666667                 0.230769   \n",
       "1                           11.000000                 0.076923   \n",
       "2                            2.000000                 0.200000   \n",
       "3                            1.000000                 0.043478   \n",
       "4                           17.000000                 0.052632   \n",
       "5                            5.000000                 0.166667   \n",
       "6                            3.000000                 0.013699   \n",
       "7                           10.000000                 0.020000   \n",
       "8                            8.833333                 0.230769   \n",
       "9                            7.666667                 0.166667   \n",
       "\n",
       "   product_reorder_prob  product_reorder_prob_x_first  \n",
       "0              0.564103                      0.601093  \n",
       "1              0.564103                      0.601093  \n",
       "2              0.564103                      0.601093  \n",
       "3              0.564103                      0.601093  \n",
       "4              0.564103                      0.601093  \n",
       "5              0.564103                      0.601093  \n",
       "6              0.564103                      0.601093  \n",
       "7              0.564103                      0.601093  \n",
       "8              0.564103                      0.601093  \n",
       "9              0.564103                      0.601093  "
      ]
     },
     "execution_count": 59,
     "metadata": {},
     "output_type": "execute_result"
    }
   ],
   "source": [
    "daataframe_X = daataframe_X.merge(Features2_Product_daataframe, on='product_id')\n",
    "daataframe_X.head(10)"
   ]
  },
  {
   "cell_type": "code",
   "execution_count": 61,
   "metadata": {
    "ExecuteTime": {
     "end_time": "2019-02-12T00:05:32.239673Z",
     "start_time": "2019-02-12T00:05:16.014458Z"
    }
   },
   "outputs": [
    {
     "name": "stderr",
     "output_type": "stream",
     "text": [
      "C:\\Users\\LENOVO\\AppData\\Roaming\\Python\\Python38\\site-packages\\sklearn\\linear_model\\_logistic.py:763: ConvergenceWarning: lbfgs failed to converge (status=1):\n",
      "STOP: TOTAL NO. of ITERATIONS REACHED LIMIT.\n",
      "\n",
      "Increase the number of iterations (max_iter) or scale the data as shown in:\n",
      "    https://scikit-learn.org/stable/modules/preprocessing.html\n",
      "Please also refer to the documentation for alternative solver options:\n",
      "    https://scikit-learn.org/stable/modules/linear_model.html#logistic-regression\n",
      "  n_iter_i = _check_optimize_result(\n"
     ]
    },
    {
     "data": {
      "text/plain": [
       "0.16046452915930323"
      ]
     },
     "execution_count": 61,
     "metadata": {},
     "output_type": "execute_result"
    }
   ],
   "source": [
    "X_Train, X_Test, y_Train, y_Test = GetUserSplitData(daataframe_X)\n",
    "\n",
    "logistic_regression_grocery = LogisticRegression()\n",
    "logistic_regression_grocery.fit(X_Train, y_Train)\n",
    "f1_score(logistic_regression_grocery.predict(X_Test), y_Test)"
   ]
  },
  {
   "cell_type": "code",
   "execution_count": 62,
   "metadata": {
    "ExecuteTime": {
     "end_time": "2019-02-12T00:05:32.302513Z",
     "start_time": "2019-02-12T00:05:32.243085Z"
    }
   },
   "outputs": [],
   "source": [
    "Department_Merge_daataframe = daataframe_products.merge(daataframe_departments, on='department_id')"
   ]
  },
  {
   "cell_type": "code",
   "execution_count": 63,
   "metadata": {
    "ExecuteTime": {
     "end_time": "2019-02-12T00:05:32.356303Z",
     "start_time": "2019-02-12T00:05:32.306549Z"
    }
   },
   "outputs": [
    {
     "data": {
      "text/html": [
       "<div>\n",
       "<style scoped>\n",
       "    .dataframe tbody tr th:only-of-type {\n",
       "        vertical-align: middle;\n",
       "    }\n",
       "\n",
       "    .dataframe tbody tr th {\n",
       "        vertical-align: top;\n",
       "    }\n",
       "\n",
       "    .dataframe thead th {\n",
       "        text-align: right;\n",
       "    }\n",
       "</style>\n",
       "<table border=\"1\" class=\"dataframe\">\n",
       "  <thead>\n",
       "    <tr style=\"text-align: right;\">\n",
       "      <th></th>\n",
       "      <th>product_id</th>\n",
       "      <th>department</th>\n",
       "    </tr>\n",
       "  </thead>\n",
       "  <tbody>\n",
       "    <tr>\n",
       "      <th>0</th>\n",
       "      <td>1</td>\n",
       "      <td>snacks</td>\n",
       "    </tr>\n",
       "    <tr>\n",
       "      <th>1</th>\n",
       "      <td>16</td>\n",
       "      <td>snacks</td>\n",
       "    </tr>\n",
       "    <tr>\n",
       "      <th>2</th>\n",
       "      <td>25</td>\n",
       "      <td>snacks</td>\n",
       "    </tr>\n",
       "    <tr>\n",
       "      <th>3</th>\n",
       "      <td>32</td>\n",
       "      <td>snacks</td>\n",
       "    </tr>\n",
       "    <tr>\n",
       "      <th>4</th>\n",
       "      <td>41</td>\n",
       "      <td>snacks</td>\n",
       "    </tr>\n",
       "    <tr>\n",
       "      <th>5</th>\n",
       "      <td>56</td>\n",
       "      <td>snacks</td>\n",
       "    </tr>\n",
       "    <tr>\n",
       "      <th>6</th>\n",
       "      <td>59</td>\n",
       "      <td>snacks</td>\n",
       "    </tr>\n",
       "    <tr>\n",
       "      <th>7</th>\n",
       "      <td>77</td>\n",
       "      <td>snacks</td>\n",
       "    </tr>\n",
       "    <tr>\n",
       "      <th>8</th>\n",
       "      <td>78</td>\n",
       "      <td>snacks</td>\n",
       "    </tr>\n",
       "    <tr>\n",
       "      <th>9</th>\n",
       "      <td>93</td>\n",
       "      <td>snacks</td>\n",
       "    </tr>\n",
       "  </tbody>\n",
       "</table>\n",
       "</div>"
      ],
      "text/plain": [
       "   product_id department\n",
       "0           1     snacks\n",
       "1          16     snacks\n",
       "2          25     snacks\n",
       "3          32     snacks\n",
       "4          41     snacks\n",
       "5          56     snacks\n",
       "6          59     snacks\n",
       "7          77     snacks\n",
       "8          78     snacks\n",
       "9          93     snacks"
      ]
     },
     "execution_count": 63,
     "metadata": {},
     "output_type": "execute_result"
    }
   ],
   "source": [
    "Department_Merge_daataframe = Department_Merge_daataframe.drop(columns = ['product_name','aisle_id','department_id'])\n",
    "Department_Merge_daataframe.head(10)"
   ]
  },
  {
   "cell_type": "code",
   "execution_count": 64,
   "metadata": {
    "ExecuteTime": {
     "end_time": "2019-02-12T00:05:32.386378Z",
     "start_time": "2019-02-12T00:05:32.360121Z"
    }
   },
   "outputs": [],
   "source": [
    "Department_Merge_daataframe = pd.get_dummies(Department_Merge_daataframe)"
   ]
  },
  {
   "cell_type": "code",
   "execution_count": 65,
   "metadata": {
    "ExecuteTime": {
     "end_time": "2019-02-12T00:05:32.942771Z",
     "start_time": "2019-02-12T00:05:32.391921Z"
    }
   },
   "outputs": [],
   "source": [
    "daataframe_X = daataframe_X.merge(Department_Merge_daataframe, on='product_id')"
   ]
  },
  {
   "cell_type": "code",
   "execution_count": 66,
   "metadata": {
    "ExecuteTime": {
     "end_time": "2019-02-12T00:05:50.288948Z",
     "start_time": "2019-02-12T00:05:32.946137Z"
    }
   },
   "outputs": [
    {
     "name": "stderr",
     "output_type": "stream",
     "text": [
      "C:\\Users\\LENOVO\\AppData\\Roaming\\Python\\Python38\\site-packages\\sklearn\\linear_model\\_logistic.py:763: ConvergenceWarning: lbfgs failed to converge (status=1):\n",
      "STOP: TOTAL NO. of ITERATIONS REACHED LIMIT.\n",
      "\n",
      "Increase the number of iterations (max_iter) or scale the data as shown in:\n",
      "    https://scikit-learn.org/stable/modules/preprocessing.html\n",
      "Please also refer to the documentation for alternative solver options:\n",
      "    https://scikit-learn.org/stable/modules/linear_model.html#logistic-regression\n",
      "  n_iter_i = _check_optimize_result(\n"
     ]
    },
    {
     "data": {
      "text/plain": [
       "0.15098959396041625"
      ]
     },
     "execution_count": 66,
     "metadata": {},
     "output_type": "execute_result"
    }
   ],
   "source": [
    "X_Train, X_Test, y_Train, y_Test = GetUserSplitData(daataframe_X)\n",
    "\n",
    "logistic_regression_grocery = LogisticRegression()\n",
    "logistic_regression_grocery.fit(X_Train, y_Train)\n",
    "f1_score(logistic_regression_grocery.predict(X_Test), y_Test)"
   ]
  },
  {
   "cell_type": "code",
   "execution_count": 67,
   "metadata": {
    "ExecuteTime": {
     "end_time": "2019-02-12T00:05:50.300161Z",
     "start_time": "2019-02-12T00:05:50.292304Z"
    }
   },
   "outputs": [],
   "source": [
    "Organic_Product_daataframe = daataframe_products"
   ]
  },
  {
   "cell_type": "code",
   "execution_count": 68,
   "metadata": {
    "ExecuteTime": {
     "end_time": "2019-02-12T00:05:50.313840Z",
     "start_time": "2019-02-12T00:05:50.305152Z"
    }
   },
   "outputs": [],
   "source": [
    "Organic_Product_daataframe['product'] = 0"
   ]
  },
  {
   "cell_type": "code",
   "execution_count": 69,
   "metadata": {
    "ExecuteTime": {
     "end_time": "2019-02-12T00:05:50.621932Z",
     "start_time": "2019-02-12T00:05:50.318150Z"
    }
   },
   "outputs": [
    {
     "name": "stderr",
     "output_type": "stream",
     "text": [
      "<ipython-input-69-e3bffb20c3de>:1: SettingWithCopyWarning: \n",
      "A value is trying to be set on a copy of a slice from a DataFrame\n",
      "\n",
      "See the caveats in the documentation: https://pandas.pydata.org/pandas-docs/stable/user_guide/indexing.html#returning-a-view-versus-a-copy\n",
      "  Organic_Product_daataframe['product'][Organic_Product_daataframe['product_name'].str.contains('Organic')] = \"organic\"\n"
     ]
    }
   ],
   "source": [
    "Organic_Product_daataframe['product'][Organic_Product_daataframe['product_name'].str.contains('Organic')] = \"organic\""
   ]
  },
  {
   "cell_type": "code",
   "execution_count": 70,
   "metadata": {},
   "outputs": [
    {
     "name": "stderr",
     "output_type": "stream",
     "text": [
      "<ipython-input-70-6e7bb4bf97be>:1: SettingWithCopyWarning: \n",
      "A value is trying to be set on a copy of a slice from a DataFrame\n",
      "\n",
      "See the caveats in the documentation: https://pandas.pydata.org/pandas-docs/stable/user_guide/indexing.html#returning-a-view-versus-a-copy\n",
      "  Organic_Product_daataframe['product'][Organic_Product_daataframe['product_name'].str.contains('ORGANIC')] = \"organic\"\n"
     ]
    }
   ],
   "source": [
    "Organic_Product_daataframe['product'][Organic_Product_daataframe['product_name'].str.contains('ORGANIC')] = \"organic\""
   ]
  },
  {
   "cell_type": "code",
   "execution_count": 71,
   "metadata": {
    "ExecuteTime": {
     "end_time": "2019-02-12T00:05:50.774959Z",
     "start_time": "2019-02-12T00:05:50.627806Z"
    }
   },
   "outputs": [
    {
     "name": "stderr",
     "output_type": "stream",
     "text": [
      "<ipython-input-71-6a37af8e5fe0>:1: SettingWithCopyWarning: \n",
      "A value is trying to be set on a copy of a slice from a DataFrame\n",
      "\n",
      "See the caveats in the documentation: https://pandas.pydata.org/pandas-docs/stable/user_guide/indexing.html#returning-a-view-versus-a-copy\n",
      "  Organic_Product_daataframe['product'][~Organic_Product_daataframe['product_name'].str.contains('Organic')] = \"xorganic\"\n"
     ]
    }
   ],
   "source": [
    "Organic_Product_daataframe['product'][~Organic_Product_daataframe['product_name'].str.contains('Organic')] = \"xorganic\""
   ]
  },
  {
   "cell_type": "code",
   "execution_count": 72,
   "metadata": {
    "ExecuteTime": {
     "end_time": "2019-02-12T00:05:50.788179Z",
     "start_time": "2019-02-12T00:05:50.779346Z"
    }
   },
   "outputs": [],
   "source": [
    "Organic_Product_daataframe = Organic_Product_daataframe.drop(columns = ['department_id','aisle_id','product_name'])"
   ]
  },
  {
   "cell_type": "code",
   "execution_count": 73,
   "metadata": {
    "ExecuteTime": {
     "end_time": "2019-02-12T00:05:50.816181Z",
     "start_time": "2019-02-12T00:05:50.791328Z"
    }
   },
   "outputs": [],
   "source": [
    "Organic_Product_daataframe = pd.get_dummies(Organic_Product_daataframe)"
   ]
  },
  {
   "cell_type": "code",
   "execution_count": 74,
   "metadata": {
    "ExecuteTime": {
     "end_time": "2019-02-12T00:05:51.332592Z",
     "start_time": "2019-02-12T00:05:50.819512Z"
    }
   },
   "outputs": [],
   "source": [
    "daataframe_X = daataframe_X.merge(Organic_Product_daataframe, on='product_id')"
   ]
  },
  {
   "cell_type": "code",
   "execution_count": 75,
   "metadata": {
    "ExecuteTime": {
     "end_time": "2019-02-12T00:06:07.257417Z",
     "start_time": "2019-02-12T00:05:51.335395Z"
    }
   },
   "outputs": [
    {
     "name": "stderr",
     "output_type": "stream",
     "text": [
      "C:\\Users\\LENOVO\\AppData\\Roaming\\Python\\Python38\\site-packages\\sklearn\\linear_model\\_logistic.py:763: ConvergenceWarning: lbfgs failed to converge (status=1):\n",
      "STOP: TOTAL NO. of ITERATIONS REACHED LIMIT.\n",
      "\n",
      "Increase the number of iterations (max_iter) or scale the data as shown in:\n",
      "    https://scikit-learn.org/stable/modules/preprocessing.html\n",
      "Please also refer to the documentation for alternative solver options:\n",
      "    https://scikit-learn.org/stable/modules/linear_model.html#logistic-regression\n",
      "  n_iter_i = _check_optimize_result(\n"
     ]
    },
    {
     "data": {
      "text/plain": [
       "0.15031742781077206"
      ]
     },
     "execution_count": 75,
     "metadata": {},
     "output_type": "execute_result"
    }
   ],
   "source": [
    "X_Train, X_Test, y_Train, y_Test = GetUserSplitData(daataframe_X)\n",
    "\n",
    "logistic_regression_grocery = LogisticRegression()\n",
    "logistic_regression_grocery.fit(X_Train, y_Train)\n",
    "f1_score(logistic_regression_grocery.predict(X_Test), y_Test)"
   ]
  },
  {
   "cell_type": "code",
   "execution_count": 76,
   "metadata": {
    "ExecuteTime": {
     "end_time": "2019-02-12T00:06:08.777226Z",
     "start_time": "2019-02-12T00:06:07.261819Z"
    }
   },
   "outputs": [],
   "source": [
    "Organic_User_daataframe = daataframe_order_products_prior.merge(daataframe_products, on = 'product_id')"
   ]
  },
  {
   "cell_type": "code",
   "execution_count": 77,
   "metadata": {
    "ExecuteTime": {
     "end_time": "2019-02-12T00:06:09.160609Z",
     "start_time": "2019-02-12T00:06:08.780358Z"
    }
   },
   "outputs": [],
   "source": [
    "Organic_User_daataframe['product'] = np.where(Organic_User_daataframe['product']=='organic', 1,0)"
   ]
  },
  {
   "cell_type": "code",
   "execution_count": 78,
   "metadata": {
    "ExecuteTime": {
     "end_time": "2019-02-12T00:06:10.891142Z",
     "start_time": "2019-02-12T00:06:09.163889Z"
    }
   },
   "outputs": [],
   "source": [
    "Organic_User_daataframe_feature = Organic_User_daataframe.groupby('user_id').agg({'product':'sum','order_id':'count'})"
   ]
  },
  {
   "cell_type": "code",
   "execution_count": 79,
   "metadata": {
    "ExecuteTime": {
     "end_time": "2019-02-12T00:06:10.909846Z",
     "start_time": "2019-02-12T00:06:10.899095Z"
    }
   },
   "outputs": [],
   "source": [
    "Organic_User_daataframe_feature['user_organic_percent'] = Organic_User_daataframe_feature['product'] / Organic_User_daataframe_feature['order_id']"
   ]
  },
  {
   "cell_type": "code",
   "execution_count": 80,
   "metadata": {
    "ExecuteTime": {
     "end_time": "2019-02-12T00:06:10.945851Z",
     "start_time": "2019-02-12T00:06:10.936854Z"
    }
   },
   "outputs": [],
   "source": [
    "Organic_User_daataframe_feature = Organic_User_daataframe_feature.drop(columns = ['product','order_id'])"
   ]
  },
  {
   "cell_type": "code",
   "execution_count": 81,
   "metadata": {
    "ExecuteTime": {
     "end_time": "2019-02-12T00:06:11.775652Z",
     "start_time": "2019-02-12T00:06:10.950700Z"
    }
   },
   "outputs": [],
   "source": [
    "daataframe_X = daataframe_X.merge(Organic_User_daataframe_feature, on = 'user_id')"
   ]
  },
  {
   "cell_type": "code",
   "execution_count": 82,
   "metadata": {
    "ExecuteTime": {
     "end_time": "2019-02-12T00:06:26.823445Z",
     "start_time": "2019-02-12T00:06:11.783624Z"
    }
   },
   "outputs": [
    {
     "name": "stderr",
     "output_type": "stream",
     "text": [
      "C:\\Users\\LENOVO\\AppData\\Roaming\\Python\\Python38\\site-packages\\sklearn\\linear_model\\_logistic.py:763: ConvergenceWarning: lbfgs failed to converge (status=1):\n",
      "STOP: TOTAL NO. of ITERATIONS REACHED LIMIT.\n",
      "\n",
      "Increase the number of iterations (max_iter) or scale the data as shown in:\n",
      "    https://scikit-learn.org/stable/modules/preprocessing.html\n",
      "Please also refer to the documentation for alternative solver options:\n",
      "    https://scikit-learn.org/stable/modules/linear_model.html#logistic-regression\n",
      "  n_iter_i = _check_optimize_result(\n"
     ]
    },
    {
     "data": {
      "text/plain": [
       "0.15332076048728274"
      ]
     },
     "execution_count": 82,
     "metadata": {},
     "output_type": "execute_result"
    }
   ],
   "source": [
    "X_Train, X_Test, y_Train, y_Test = GetUserSplitData(daataframe_X)\n",
    "\n",
    "logistic_regression_grocery = LogisticRegression()\n",
    "logistic_regression_grocery.fit(X_Train, y_Train)\n",
    "f1_score(logistic_regression_grocery.predict(X_Test), y_Test)"
   ]
  },
  {
   "cell_type": "code",
   "execution_count": 83,
   "metadata": {
    "ExecuteTime": {
     "end_time": "2019-02-12T00:06:29.590152Z",
     "start_time": "2019-02-12T00:06:26.839226Z"
    }
   },
   "outputs": [],
   "source": [
    "Test_daataframe = pd.DataFrame(daataframe_order_products_prior.groupby(['product_id','user_id','order_number'])['order_number'].mean())"
   ]
  },
  {
   "cell_type": "code",
   "execution_count": 84,
   "metadata": {
    "ExecuteTime": {
     "end_time": "2019-02-12T00:06:29.621514Z",
     "start_time": "2019-02-12T00:06:29.593371Z"
    }
   },
   "outputs": [
    {
     "data": {
      "text/html": [
       "<div>\n",
       "<style scoped>\n",
       "    .dataframe tbody tr th:only-of-type {\n",
       "        vertical-align: middle;\n",
       "    }\n",
       "\n",
       "    .dataframe tbody tr th {\n",
       "        vertical-align: top;\n",
       "    }\n",
       "\n",
       "    .dataframe thead th {\n",
       "        text-align: right;\n",
       "    }\n",
       "</style>\n",
       "<table border=\"1\" class=\"dataframe\">\n",
       "  <thead>\n",
       "    <tr style=\"text-align: right;\">\n",
       "      <th></th>\n",
       "      <th></th>\n",
       "      <th></th>\n",
       "      <th>order_number</th>\n",
       "    </tr>\n",
       "    <tr>\n",
       "      <th>product_id</th>\n",
       "      <th>user_id</th>\n",
       "      <th>order_number</th>\n",
       "      <th></th>\n",
       "    </tr>\n",
       "  </thead>\n",
       "  <tbody>\n",
       "    <tr>\n",
       "      <th rowspan=\"10\" valign=\"top\">1</th>\n",
       "      <th rowspan=\"3\" valign=\"top\">1494</th>\n",
       "      <th>6</th>\n",
       "      <td>6</td>\n",
       "    </tr>\n",
       "    <tr>\n",
       "      <th>7</th>\n",
       "      <td>7</td>\n",
       "    </tr>\n",
       "    <tr>\n",
       "      <th>9</th>\n",
       "      <td>9</td>\n",
       "    </tr>\n",
       "    <tr>\n",
       "      <th>3010</th>\n",
       "      <th>5</th>\n",
       "      <td>5</td>\n",
       "    </tr>\n",
       "    <tr>\n",
       "      <th>4122</th>\n",
       "      <th>11</th>\n",
       "      <td>11</td>\n",
       "    </tr>\n",
       "    <tr>\n",
       "      <th>7275</th>\n",
       "      <th>5</th>\n",
       "      <td>5</td>\n",
       "    </tr>\n",
       "    <tr>\n",
       "      <th>8723</th>\n",
       "      <th>4</th>\n",
       "      <td>4</td>\n",
       "    </tr>\n",
       "    <tr>\n",
       "      <th>10315</th>\n",
       "      <th>1</th>\n",
       "      <td>1</td>\n",
       "    </tr>\n",
       "    <tr>\n",
       "      <th>11119</th>\n",
       "      <th>18</th>\n",
       "      <td>18</td>\n",
       "    </tr>\n",
       "    <tr>\n",
       "      <th>12892</th>\n",
       "      <th>16</th>\n",
       "      <td>16</td>\n",
       "    </tr>\n",
       "  </tbody>\n",
       "</table>\n",
       "</div>"
      ],
      "text/plain": [
       "                                 order_number\n",
       "product_id user_id order_number              \n",
       "1          1494    6                        6\n",
       "                   7                        7\n",
       "                   9                        9\n",
       "           3010    5                        5\n",
       "           4122    11                      11\n",
       "           7275    5                        5\n",
       "           8723    4                        4\n",
       "           10315   1                        1\n",
       "           11119   18                      18\n",
       "           12892   16                      16"
      ]
     },
     "execution_count": 84,
     "metadata": {},
     "output_type": "execute_result"
    }
   ],
   "source": [
    "Test_daataframe.head(10)"
   ]
  },
  {
   "cell_type": "code",
   "execution_count": 85,
   "metadata": {
    "ExecuteTime": {
     "end_time": "2019-02-12T00:06:29.633810Z",
     "start_time": "2019-02-12T00:06:29.625796Z"
    }
   },
   "outputs": [],
   "source": [
    "Test_daataframe.columns = ['order_number2']"
   ]
  },
  {
   "cell_type": "code",
   "execution_count": 86,
   "metadata": {
    "ExecuteTime": {
     "end_time": "2019-02-12T00:06:29.766622Z",
     "start_time": "2019-02-12T00:06:29.639520Z"
    }
   },
   "outputs": [],
   "source": [
    "Test_daataframe = Test_daataframe.reset_index()"
   ]
  },
  {
   "cell_type": "code",
   "execution_count": 87,
   "metadata": {
    "ExecuteTime": {
     "end_time": "2019-02-12T00:06:29.790250Z",
     "start_time": "2019-02-12T00:06:29.772652Z"
    }
   },
   "outputs": [
    {
     "data": {
      "text/html": [
       "<div>\n",
       "<style scoped>\n",
       "    .dataframe tbody tr th:only-of-type {\n",
       "        vertical-align: middle;\n",
       "    }\n",
       "\n",
       "    .dataframe tbody tr th {\n",
       "        vertical-align: top;\n",
       "    }\n",
       "\n",
       "    .dataframe thead th {\n",
       "        text-align: right;\n",
       "    }\n",
       "</style>\n",
       "<table border=\"1\" class=\"dataframe\">\n",
       "  <thead>\n",
       "    <tr style=\"text-align: right;\">\n",
       "      <th></th>\n",
       "      <th>product_id</th>\n",
       "      <th>user_id</th>\n",
       "      <th>order_number</th>\n",
       "      <th>order_number2</th>\n",
       "    </tr>\n",
       "  </thead>\n",
       "  <tbody>\n",
       "    <tr>\n",
       "      <th>0</th>\n",
       "      <td>1</td>\n",
       "      <td>1494</td>\n",
       "      <td>6</td>\n",
       "      <td>6</td>\n",
       "    </tr>\n",
       "    <tr>\n",
       "      <th>1</th>\n",
       "      <td>1</td>\n",
       "      <td>1494</td>\n",
       "      <td>7</td>\n",
       "      <td>7</td>\n",
       "    </tr>\n",
       "    <tr>\n",
       "      <th>2</th>\n",
       "      <td>1</td>\n",
       "      <td>1494</td>\n",
       "      <td>9</td>\n",
       "      <td>9</td>\n",
       "    </tr>\n",
       "    <tr>\n",
       "      <th>3</th>\n",
       "      <td>1</td>\n",
       "      <td>3010</td>\n",
       "      <td>5</td>\n",
       "      <td>5</td>\n",
       "    </tr>\n",
       "    <tr>\n",
       "      <th>4</th>\n",
       "      <td>1</td>\n",
       "      <td>4122</td>\n",
       "      <td>11</td>\n",
       "      <td>11</td>\n",
       "    </tr>\n",
       "    <tr>\n",
       "      <th>5</th>\n",
       "      <td>1</td>\n",
       "      <td>7275</td>\n",
       "      <td>5</td>\n",
       "      <td>5</td>\n",
       "    </tr>\n",
       "    <tr>\n",
       "      <th>6</th>\n",
       "      <td>1</td>\n",
       "      <td>8723</td>\n",
       "      <td>4</td>\n",
       "      <td>4</td>\n",
       "    </tr>\n",
       "    <tr>\n",
       "      <th>7</th>\n",
       "      <td>1</td>\n",
       "      <td>10315</td>\n",
       "      <td>1</td>\n",
       "      <td>1</td>\n",
       "    </tr>\n",
       "    <tr>\n",
       "      <th>8</th>\n",
       "      <td>1</td>\n",
       "      <td>11119</td>\n",
       "      <td>18</td>\n",
       "      <td>18</td>\n",
       "    </tr>\n",
       "    <tr>\n",
       "      <th>9</th>\n",
       "      <td>1</td>\n",
       "      <td>12892</td>\n",
       "      <td>16</td>\n",
       "      <td>16</td>\n",
       "    </tr>\n",
       "  </tbody>\n",
       "</table>\n",
       "</div>"
      ],
      "text/plain": [
       "   product_id  user_id  order_number  order_number2\n",
       "0           1     1494             6              6\n",
       "1           1     1494             7              7\n",
       "2           1     1494             9              9\n",
       "3           1     3010             5              5\n",
       "4           1     4122            11             11\n",
       "5           1     7275             5              5\n",
       "6           1     8723             4              4\n",
       "7           1    10315             1              1\n",
       "8           1    11119            18             18\n",
       "9           1    12892            16             16"
      ]
     },
     "execution_count": 87,
     "metadata": {},
     "output_type": "execute_result"
    }
   ],
   "source": [
    "Test_daataframe.head(10)"
   ]
  },
  {
   "cell_type": "code",
   "execution_count": 88,
   "metadata": {
    "ExecuteTime": {
     "end_time": "2019-02-12T00:15:27.073504Z",
     "start_time": "2019-02-12T00:06:29.796567Z"
    }
   },
   "outputs": [],
   "source": [
    "Test_daataframe['order_number2'] = (Test_daataframe.groupby(['product_id','user_id'])['order_number'].transform(lambda grp:grp.shift(1)))"
   ]
  },
  {
   "cell_type": "code",
   "execution_count": 89,
   "metadata": {
    "ExecuteTime": {
     "end_time": "2019-02-12T00:15:27.154203Z",
     "start_time": "2019-02-12T00:15:27.085577Z"
    }
   },
   "outputs": [],
   "source": [
    "Test_daataframe['user_product_order_num_diff'] = Test_daataframe['order_number'] - Test_daataframe['order_number2']"
   ]
  },
  {
   "cell_type": "code",
   "execution_count": 90,
   "metadata": {
    "ExecuteTime": {
     "end_time": "2019-02-12T00:15:27.349457Z",
     "start_time": "2019-02-12T00:15:27.159564Z"
    }
   },
   "outputs": [],
   "source": [
    "Test_daataframe2 = Test_daataframe.drop(columns = ['order_number','order_number2'])"
   ]
  },
  {
   "cell_type": "code",
   "execution_count": 91,
   "metadata": {
    "ExecuteTime": {
     "end_time": "2019-02-12T00:15:28.071360Z",
     "start_time": "2019-02-12T00:15:27.353557Z"
    }
   },
   "outputs": [],
   "source": [
    "Test_daataframe3 = pd.DataFrame(Test_daataframe2.groupby(['product_id','user_id'])['user_product_order_num_diff'].max())"
   ]
  },
  {
   "cell_type": "code",
   "execution_count": 92,
   "metadata": {
    "ExecuteTime": {
     "end_time": "2019-02-12T00:15:28.118981Z",
     "start_time": "2019-02-12T00:15:28.074624Z"
    }
   },
   "outputs": [],
   "source": [
    "Test_daataframe4 = Test_daataframe3.reset_index()"
   ]
  },
  {
   "cell_type": "code",
   "execution_count": 93,
   "metadata": {
    "ExecuteTime": {
     "end_time": "2019-02-12T00:15:29.913913Z",
     "start_time": "2019-02-12T00:15:28.122165Z"
    }
   },
   "outputs": [],
   "source": [
    "daataframe_X = daataframe_X.merge(Test_daataframe4,on=['user_id','product_id'])"
   ]
  },
  {
   "cell_type": "code",
   "execution_count": 94,
   "metadata": {
    "ExecuteTime": {
     "end_time": "2019-02-12T00:17:42.911286Z",
     "start_time": "2019-02-12T00:15:29.918453Z"
    }
   },
   "outputs": [
    {
     "name": "stdout",
     "output_type": "stream",
     "text": [
      "0.1826668441998432\n",
      "0.8180071551609911\n",
      "0.29864428507504204\n",
      "\n",
      "\n",
      "0.13113786591123702\n",
      "0.6156830146855085\n",
      "0.21622147618352552\n"
     ]
    }
   ],
   "source": [
    "daataframe_X['user_product_order_num_diff'] = daataframe_X['user_product_order_num_diff'].fillna(-999)\n",
    "\n",
    "X_Train, X_Test, y_Train, y_Test = GetUserSplitData(daataframe_X)\n",
    "\n",
    "rf = RandomForestClassifier(n_jobs=-1, n_estimators = 100,min_samples_split=50)\n",
    "rf.fit(X_Train, y_Train)\n",
    "print(recall_score(y_Train,rf.predict(X_Train)))\n",
    "print(precision_score(y_Train,rf.predict(X_Train)))\n",
    "print(f1_score(y_Train,rf.predict(X_Train)))\n",
    "\n",
    "print('\\n')\n",
    "\n",
    "print(recall_score(y_Test,rf.predict(X_Test)))\n",
    "print(precision_score(y_Test,rf.predict(X_Test)))\n",
    "print(f1_score(y_Test,rf.predict(X_Test)))"
   ]
  },
  {
   "cell_type": "code",
   "execution_count": 95,
   "metadata": {
    "ExecuteTime": {
     "end_time": "2019-02-12T00:45:18.465234Z",
     "start_time": "2019-02-12T00:27:09.864037Z"
    }
   },
   "outputs": [],
   "source": [
    "Other_A_daataframe = Test_daataframe.groupby(['product_id','user_id'])['user_product_order_num_diff'].apply(lambda x: (x==1).sum()).reset_index(name='consec')\n",
    "Other_B_daataframe = Test_daataframe.groupby(['product_id','user_id'])['user_product_order_num_diff'].apply(lambda x: (x>=0).sum()).reset_index(name='total')"
   ]
  },
  {
   "cell_type": "code",
   "execution_count": 96,
   "metadata": {
    "ExecuteTime": {
     "end_time": "2019-02-12T00:45:22.272696Z",
     "start_time": "2019-02-12T00:45:21.501475Z"
    }
   },
   "outputs": [],
   "source": [
    "Other_A_Final_daataframe = Other_A_daataframe.merge(Other_B_daataframe, on = ['product_id','user_id'])"
   ]
  },
  {
   "cell_type": "code",
   "execution_count": 97,
   "metadata": {
    "ExecuteTime": {
     "end_time": "2019-02-12T00:45:22.912055Z",
     "start_time": "2019-02-12T00:45:22.842375Z"
    }
   },
   "outputs": [],
   "source": [
    "Other_A_Final_daataframe['user_product_cons_perc'] = Other_A_Final_daataframe['consec']/Other_A_Final_daataframe['total']"
   ]
  },
  {
   "cell_type": "code",
   "execution_count": 98,
   "metadata": {
    "ExecuteTime": {
     "end_time": "2019-02-12T00:45:26.254027Z",
     "start_time": "2019-02-12T00:45:26.124888Z"
    }
   },
   "outputs": [],
   "source": [
    "Other_A_Final_daataframe2 = Other_A_Final_daataframe.drop(columns = ['consec','total'])"
   ]
  },
  {
   "cell_type": "code",
   "execution_count": 99,
   "metadata": {
    "ExecuteTime": {
     "end_time": "2019-02-12T00:45:28.624541Z",
     "start_time": "2019-02-12T00:45:27.225611Z"
    }
   },
   "outputs": [],
   "source": [
    "daataframe_X = daataframe_X.merge(Other_A_Final_daataframe2,on=['user_id','product_id'])"
   ]
  },
  {
   "cell_type": "code",
   "execution_count": 100,
   "metadata": {
    "ExecuteTime": {
     "end_time": "2019-02-12T00:45:29.839688Z",
     "start_time": "2019-02-12T00:45:29.809455Z"
    }
   },
   "outputs": [],
   "source": [
    "daataframe_X['user_product_cons_perc'] = daataframe_X['user_product_cons_perc'].fillna(-9999)"
   ]
  },
  {
   "cell_type": "code",
   "execution_count": 101,
   "metadata": {
    "ExecuteTime": {
     "end_time": "2019-02-12T00:49:44.746978Z",
     "start_time": "2019-02-12T00:45:31.426441Z"
    }
   },
   "outputs": [
    {
     "name": "stdout",
     "output_type": "stream",
     "text": [
      "0.8087967688961875\n",
      "0.5022185476092049\n",
      "0.619661316648531\n",
      "\n",
      "\n",
      "0.482766761095373\n",
      "0.3235631501918437\n",
      "0.3874481941977501\n"
     ]
    }
   ],
   "source": [
    "X_Train, X_Test, y_Train, y_Test = GetUserSplitData(daataframe_X)\n",
    "\n",
    "model_random_forest = RandomForestClassifier(n_jobs=-1, n_estimators = 100,min_samples_split=50, class_weight={1:9,0:1})\n",
    "\n",
    "\n",
    "model_random_forest.fit(X_Train, y_Train)\n",
    "print(recall_score(y_Train,model_random_forest.predict(X_Train)))\n",
    "print(precision_score(y_Train,model_random_forest.predict(X_Train)))\n",
    "print(f1_score(y_Train,model_random_forest.predict(X_Train)))\n",
    "\n",
    "print('\\n')\n",
    "\n",
    "print(recall_score(y_Test,model_random_forest.predict(X_Test)))\n",
    "print(precision_score(y_Test,model_random_forest.predict(X_Test)))\n",
    "print(f1_score(y_Test,model_random_forest.predict(X_Test)))"
   ]
  },
  {
   "cell_type": "code",
   "execution_count": 102,
   "metadata": {
    "ExecuteTime": {
     "end_time": "2019-02-12T00:49:45.611688Z",
     "start_time": "2019-02-12T00:49:44.766685Z"
    }
   },
   "outputs": [
    {
     "name": "stderr",
     "output_type": "stream",
     "text": [
      "<ipython-input-102-df22ced3bcfe>:1: FutureWarning: Indexing with multiple keys (implicitly converted to a tuple of keys) will be deprecated, use a list instead.\n",
      "  Time_Product_daataframe = daataframe_order_products_prior.groupby('product_id')['order_dow','order_hour_of_day'].mean().reset_index()\n"
     ]
    }
   ],
   "source": [
    "Time_Product_daataframe = daataframe_order_products_prior.groupby('product_id')['order_dow','order_hour_of_day'].mean().reset_index()"
   ]
  },
  {
   "cell_type": "code",
   "execution_count": 103,
   "metadata": {
    "ExecuteTime": {
     "end_time": "2019-02-12T00:50:48.318464Z",
     "start_time": "2019-02-12T00:50:48.310819Z"
    }
   },
   "outputs": [],
   "source": [
    "Time_Product_daataframe.columns = ['product_id','product_order_dow','product_order_hour']"
   ]
  },
  {
   "cell_type": "code",
   "execution_count": 104,
   "metadata": {
    "ExecuteTime": {
     "end_time": "2019-02-12T00:50:51.052806Z",
     "start_time": "2019-02-12T00:50:49.247343Z"
    }
   },
   "outputs": [],
   "source": [
    "daataframe_X = daataframe_X.merge(Time_Product_daataframe, on = 'product_id')"
   ]
  },
  {
   "cell_type": "code",
   "execution_count": 105,
   "metadata": {
    "ExecuteTime": {
     "end_time": "2019-02-12T00:50:52.928512Z",
     "start_time": "2019-02-12T00:50:51.058995Z"
    }
   },
   "outputs": [
    {
     "name": "stderr",
     "output_type": "stream",
     "text": [
      "<ipython-input-105-f76871a91b46>:1: FutureWarning: Indexing with multiple keys (implicitly converted to a tuple of keys) will be deprecated, use a list instead.\n",
      "  Time_Product_User_daataframe = daataframe_order_products_prior.groupby(['product_id','user_id'])['order_dow','order_hour_of_day'].mean().reset_index()\n"
     ]
    }
   ],
   "source": [
    "Time_Product_User_daataframe = daataframe_order_products_prior.groupby(['product_id','user_id'])['order_dow','order_hour_of_day'].mean().reset_index()"
   ]
  },
  {
   "cell_type": "code",
   "execution_count": 106,
   "metadata": {
    "ExecuteTime": {
     "end_time": "2019-02-12T00:50:52.947038Z",
     "start_time": "2019-02-12T00:50:52.931727Z"
    }
   },
   "outputs": [],
   "source": [
    "Time_Product_User_daataframe.columns = ['product_id','user_id','user_product_order_dow','user_product_order_hour']"
   ]
  },
  {
   "cell_type": "code",
   "execution_count": 107,
   "metadata": {
    "ExecuteTime": {
     "end_time": "2019-02-12T00:50:54.158735Z",
     "start_time": "2019-02-12T00:50:52.952323Z"
    }
   },
   "outputs": [],
   "source": [
    "daataframe_X = daataframe_X.merge(Time_Product_User_daataframe, on = ['product_id','user_id'])"
   ]
  },
  {
   "cell_type": "code",
   "execution_count": 108,
   "metadata": {
    "ExecuteTime": {
     "end_time": "2019-02-12T00:17:43.021569Z",
     "start_time": "2019-02-12T00:03:22.504Z"
    }
   },
   "outputs": [],
   "source": [
    "daataframe_X.to_csv('instacart_dataframe_X_features.csv', index=False)"
   ]
  },
  {
   "cell_type": "code",
   "execution_count": 109,
   "metadata": {
    "ExecuteTime": {
     "end_time": "2019-02-12T01:01:13.527883Z",
     "start_time": "2019-02-12T01:01:13.513852Z"
    }
   },
   "outputs": [
    {
     "data": {
      "text/plain": [
       "(855812, 45)"
      ]
     },
     "execution_count": 109,
     "metadata": {},
     "output_type": "execute_result"
    }
   ],
   "source": [
    "daataframe_X.shape"
   ]
  },
  {
   "cell_type": "code",
   "execution_count": 110,
   "metadata": {
    "ExecuteTime": {
     "end_time": "2019-02-12T01:01:14.624443Z",
     "start_time": "2019-02-12T01:01:14.613032Z"
    }
   },
   "outputs": [
    {
     "data": {
      "text/plain": [
       "(3216994, 9)"
      ]
     },
     "execution_count": 110,
     "metadata": {},
     "output_type": "execute_result"
    }
   ],
   "source": [
    "daataframe_order_products_prior.shape"
   ]
  },
  {
   "cell_type": "code",
   "execution_count": 111,
   "metadata": {
    "ExecuteTime": {
     "end_time": "2019-02-12T01:01:15.716400Z",
     "start_time": "2019-02-12T01:01:15.669378Z"
    }
   },
   "outputs": [
    {
     "data": {
      "text/html": [
       "<div>\n",
       "<style scoped>\n",
       "    .dataframe tbody tr th:only-of-type {\n",
       "        vertical-align: middle;\n",
       "    }\n",
       "\n",
       "    .dataframe tbody tr th {\n",
       "        vertical-align: top;\n",
       "    }\n",
       "\n",
       "    .dataframe thead th {\n",
       "        text-align: right;\n",
       "    }\n",
       "</style>\n",
       "<table border=\"1\" class=\"dataframe\">\n",
       "  <thead>\n",
       "    <tr style=\"text-align: right;\">\n",
       "      <th></th>\n",
       "      <th>product_id</th>\n",
       "      <th>user_id</th>\n",
       "      <th>user_product_total_orders</th>\n",
       "      <th>latest_cart</th>\n",
       "      <th>in_cart</th>\n",
       "      <th>product_total_orders</th>\n",
       "      <th>product_avg_add_to_cart_order</th>\n",
       "      <th>user_total_orders</th>\n",
       "      <th>user_avg_cartsize</th>\n",
       "      <th>user_total_products</th>\n",
       "      <th>...</th>\n",
       "      <th>department_snacks</th>\n",
       "      <th>product_organic</th>\n",
       "      <th>product_xorganic</th>\n",
       "      <th>user_organic_percent</th>\n",
       "      <th>user_product_order_num_diff</th>\n",
       "      <th>user_product_cons_perc</th>\n",
       "      <th>product_order_dow</th>\n",
       "      <th>product_order_hour</th>\n",
       "      <th>user_product_order_dow</th>\n",
       "      <th>user_product_order_hour</th>\n",
       "    </tr>\n",
       "  </thead>\n",
       "  <tbody>\n",
       "    <tr>\n",
       "      <th>0</th>\n",
       "      <td>1</td>\n",
       "      <td>1494</td>\n",
       "      <td>3</td>\n",
       "      <td>{44560}</td>\n",
       "      <td>0</td>\n",
       "      <td>195</td>\n",
       "      <td>5.579487</td>\n",
       "      <td>13</td>\n",
       "      <td>12.153846</td>\n",
       "      <td>71</td>\n",
       "      <td>...</td>\n",
       "      <td>1</td>\n",
       "      <td>0</td>\n",
       "      <td>1</td>\n",
       "      <td>0.050633</td>\n",
       "      <td>2.0</td>\n",
       "      <td>0.5</td>\n",
       "      <td>2.779487</td>\n",
       "      <td>13.189744</td>\n",
       "      <td>3.333333</td>\n",
       "      <td>8.666667</td>\n",
       "    </tr>\n",
       "    <tr>\n",
       "      <th>1</th>\n",
       "      <td>1</td>\n",
       "      <td>3010</td>\n",
       "      <td>1</td>\n",
       "      <td>{26088, 20940, 26348, 32689, 6008, 13176}</td>\n",
       "      <td>0</td>\n",
       "      <td>195</td>\n",
       "      <td>5.579487</td>\n",
       "      <td>13</td>\n",
       "      <td>9.615385</td>\n",
       "      <td>64</td>\n",
       "      <td>...</td>\n",
       "      <td>1</td>\n",
       "      <td>0</td>\n",
       "      <td>1</td>\n",
       "      <td>0.376000</td>\n",
       "      <td>-999.0</td>\n",
       "      <td>-9999.0</td>\n",
       "      <td>2.779487</td>\n",
       "      <td>13.189744</td>\n",
       "      <td>3.000000</td>\n",
       "      <td>10.000000</td>\n",
       "    </tr>\n",
       "    <tr>\n",
       "      <th>2</th>\n",
       "      <td>1</td>\n",
       "      <td>10315</td>\n",
       "      <td>1</td>\n",
       "      <td>{21386}</td>\n",
       "      <td>0</td>\n",
       "      <td>195</td>\n",
       "      <td>5.579487</td>\n",
       "      <td>5</td>\n",
       "      <td>1.800000</td>\n",
       "      <td>3</td>\n",
       "      <td>...</td>\n",
       "      <td>1</td>\n",
       "      <td>0</td>\n",
       "      <td>1</td>\n",
       "      <td>0.333333</td>\n",
       "      <td>-999.0</td>\n",
       "      <td>-9999.0</td>\n",
       "      <td>2.779487</td>\n",
       "      <td>13.189744</td>\n",
       "      <td>0.000000</td>\n",
       "      <td>16.000000</td>\n",
       "    </tr>\n",
       "    <tr>\n",
       "      <th>3</th>\n",
       "      <td>1</td>\n",
       "      <td>11119</td>\n",
       "      <td>1</td>\n",
       "      <td>{17122, 8803, 43352, 41400, 5769, 14477, 21903...</td>\n",
       "      <td>0</td>\n",
       "      <td>195</td>\n",
       "      <td>5.579487</td>\n",
       "      <td>23</td>\n",
       "      <td>4.478261</td>\n",
       "      <td>41</td>\n",
       "      <td>...</td>\n",
       "      <td>1</td>\n",
       "      <td>0</td>\n",
       "      <td>1</td>\n",
       "      <td>0.320388</td>\n",
       "      <td>-999.0</td>\n",
       "      <td>-9999.0</td>\n",
       "      <td>2.779487</td>\n",
       "      <td>13.189744</td>\n",
       "      <td>1.000000</td>\n",
       "      <td>14.000000</td>\n",
       "    </tr>\n",
       "    <tr>\n",
       "      <th>4</th>\n",
       "      <td>1</td>\n",
       "      <td>12892</td>\n",
       "      <td>1</td>\n",
       "      <td>{43136, 5161, 17720}</td>\n",
       "      <td>0</td>\n",
       "      <td>195</td>\n",
       "      <td>5.579487</td>\n",
       "      <td>19</td>\n",
       "      <td>3.473684</td>\n",
       "      <td>36</td>\n",
       "      <td>...</td>\n",
       "      <td>1</td>\n",
       "      <td>0</td>\n",
       "      <td>1</td>\n",
       "      <td>0.469697</td>\n",
       "      <td>-999.0</td>\n",
       "      <td>-9999.0</td>\n",
       "      <td>2.779487</td>\n",
       "      <td>13.189744</td>\n",
       "      <td>1.000000</td>\n",
       "      <td>12.000000</td>\n",
       "    </tr>\n",
       "  </tbody>\n",
       "</table>\n",
       "<p>5 rows × 45 columns</p>\n",
       "</div>"
      ],
      "text/plain": [
       "   product_id  user_id  user_product_total_orders  \\\n",
       "0           1     1494                          3   \n",
       "1           1     3010                          1   \n",
       "2           1    10315                          1   \n",
       "3           1    11119                          1   \n",
       "4           1    12892                          1   \n",
       "\n",
       "                                         latest_cart  in_cart  \\\n",
       "0                                            {44560}        0   \n",
       "1          {26088, 20940, 26348, 32689, 6008, 13176}        0   \n",
       "2                                            {21386}        0   \n",
       "3  {17122, 8803, 43352, 41400, 5769, 14477, 21903...        0   \n",
       "4                               {43136, 5161, 17720}        0   \n",
       "\n",
       "   product_total_orders  product_avg_add_to_cart_order  user_total_orders  \\\n",
       "0                   195                       5.579487                 13   \n",
       "1                   195                       5.579487                 13   \n",
       "2                   195                       5.579487                  5   \n",
       "3                   195                       5.579487                 23   \n",
       "4                   195                       5.579487                 19   \n",
       "\n",
       "   user_avg_cartsize  user_total_products  ...  department_snacks  \\\n",
       "0          12.153846                   71  ...                  1   \n",
       "1           9.615385                   64  ...                  1   \n",
       "2           1.800000                    3  ...                  1   \n",
       "3           4.478261                   41  ...                  1   \n",
       "4           3.473684                   36  ...                  1   \n",
       "\n",
       "   product_organic  product_xorganic  user_organic_percent  \\\n",
       "0                0                 1              0.050633   \n",
       "1                0                 1              0.376000   \n",
       "2                0                 1              0.333333   \n",
       "3                0                 1              0.320388   \n",
       "4                0                 1              0.469697   \n",
       "\n",
       "   user_product_order_num_diff  user_product_cons_perc  product_order_dow  \\\n",
       "0                          2.0                     0.5           2.779487   \n",
       "1                       -999.0                 -9999.0           2.779487   \n",
       "2                       -999.0                 -9999.0           2.779487   \n",
       "3                       -999.0                 -9999.0           2.779487   \n",
       "4                       -999.0                 -9999.0           2.779487   \n",
       "\n",
       "   product_order_hour  user_product_order_dow  user_product_order_hour  \n",
       "0           13.189744                3.333333                 8.666667  \n",
       "1           13.189744                3.000000                10.000000  \n",
       "2           13.189744                0.000000                16.000000  \n",
       "3           13.189744                1.000000                14.000000  \n",
       "4           13.189744                1.000000                12.000000  \n",
       "\n",
       "[5 rows x 45 columns]"
      ]
     },
     "execution_count": 111,
     "metadata": {},
     "output_type": "execute_result"
    }
   ],
   "source": [
    "daataframe_X.head(5)"
   ]
  },
  {
   "cell_type": "code",
   "execution_count": 112,
   "metadata": {
    "ExecuteTime": {
     "end_time": "2019-02-12T01:01:16.770498Z",
     "start_time": "2019-02-12T01:01:16.749620Z"
    }
   },
   "outputs": [
    {
     "data": {
      "text/html": [
       "<div>\n",
       "<style scoped>\n",
       "    .dataframe tbody tr th:only-of-type {\n",
       "        vertical-align: middle;\n",
       "    }\n",
       "\n",
       "    .dataframe tbody tr th {\n",
       "        vertical-align: top;\n",
       "    }\n",
       "\n",
       "    .dataframe thead th {\n",
       "        text-align: right;\n",
       "    }\n",
       "</style>\n",
       "<table border=\"1\" class=\"dataframe\">\n",
       "  <thead>\n",
       "    <tr style=\"text-align: right;\">\n",
       "      <th></th>\n",
       "      <th>order_id</th>\n",
       "      <th>product_id</th>\n",
       "      <th>add_to_cart_order</th>\n",
       "      <th>reordered</th>\n",
       "      <th>user_id</th>\n",
       "      <th>order_number</th>\n",
       "      <th>order_dow</th>\n",
       "      <th>order_hour_of_day</th>\n",
       "      <th>days_since_prior_order</th>\n",
       "    </tr>\n",
       "  </thead>\n",
       "  <tbody>\n",
       "    <tr>\n",
       "      <th>0</th>\n",
       "      <td>6</td>\n",
       "      <td>40462</td>\n",
       "      <td>1</td>\n",
       "      <td>0</td>\n",
       "      <td>22352</td>\n",
       "      <td>4</td>\n",
       "      <td>1</td>\n",
       "      <td>12</td>\n",
       "      <td>30.0</td>\n",
       "    </tr>\n",
       "    <tr>\n",
       "      <th>1</th>\n",
       "      <td>6</td>\n",
       "      <td>15873</td>\n",
       "      <td>2</td>\n",
       "      <td>0</td>\n",
       "      <td>22352</td>\n",
       "      <td>4</td>\n",
       "      <td>1</td>\n",
       "      <td>12</td>\n",
       "      <td>30.0</td>\n",
       "    </tr>\n",
       "    <tr>\n",
       "      <th>2</th>\n",
       "      <td>6</td>\n",
       "      <td>41897</td>\n",
       "      <td>3</td>\n",
       "      <td>0</td>\n",
       "      <td>22352</td>\n",
       "      <td>4</td>\n",
       "      <td>1</td>\n",
       "      <td>12</td>\n",
       "      <td>30.0</td>\n",
       "    </tr>\n",
       "    <tr>\n",
       "      <th>3</th>\n",
       "      <td>12</td>\n",
       "      <td>30597</td>\n",
       "      <td>1</td>\n",
       "      <td>1</td>\n",
       "      <td>152610</td>\n",
       "      <td>22</td>\n",
       "      <td>6</td>\n",
       "      <td>8</td>\n",
       "      <td>10.0</td>\n",
       "    </tr>\n",
       "    <tr>\n",
       "      <th>4</th>\n",
       "      <td>12</td>\n",
       "      <td>15221</td>\n",
       "      <td>2</td>\n",
       "      <td>1</td>\n",
       "      <td>152610</td>\n",
       "      <td>22</td>\n",
       "      <td>6</td>\n",
       "      <td>8</td>\n",
       "      <td>10.0</td>\n",
       "    </tr>\n",
       "    <tr>\n",
       "      <th>5</th>\n",
       "      <td>12</td>\n",
       "      <td>43772</td>\n",
       "      <td>3</td>\n",
       "      <td>1</td>\n",
       "      <td>152610</td>\n",
       "      <td>22</td>\n",
       "      <td>6</td>\n",
       "      <td>8</td>\n",
       "      <td>10.0</td>\n",
       "    </tr>\n",
       "    <tr>\n",
       "      <th>6</th>\n",
       "      <td>12</td>\n",
       "      <td>37886</td>\n",
       "      <td>4</td>\n",
       "      <td>1</td>\n",
       "      <td>152610</td>\n",
       "      <td>22</td>\n",
       "      <td>6</td>\n",
       "      <td>8</td>\n",
       "      <td>10.0</td>\n",
       "    </tr>\n",
       "    <tr>\n",
       "      <th>7</th>\n",
       "      <td>12</td>\n",
       "      <td>37215</td>\n",
       "      <td>5</td>\n",
       "      <td>0</td>\n",
       "      <td>152610</td>\n",
       "      <td>22</td>\n",
       "      <td>6</td>\n",
       "      <td>8</td>\n",
       "      <td>10.0</td>\n",
       "    </tr>\n",
       "    <tr>\n",
       "      <th>8</th>\n",
       "      <td>12</td>\n",
       "      <td>34335</td>\n",
       "      <td>6</td>\n",
       "      <td>1</td>\n",
       "      <td>152610</td>\n",
       "      <td>22</td>\n",
       "      <td>6</td>\n",
       "      <td>8</td>\n",
       "      <td>10.0</td>\n",
       "    </tr>\n",
       "    <tr>\n",
       "      <th>9</th>\n",
       "      <td>12</td>\n",
       "      <td>3164</td>\n",
       "      <td>7</td>\n",
       "      <td>0</td>\n",
       "      <td>152610</td>\n",
       "      <td>22</td>\n",
       "      <td>6</td>\n",
       "      <td>8</td>\n",
       "      <td>10.0</td>\n",
       "    </tr>\n",
       "  </tbody>\n",
       "</table>\n",
       "</div>"
      ],
      "text/plain": [
       "   order_id  product_id  add_to_cart_order  reordered  user_id  order_number  \\\n",
       "0         6       40462                  1          0    22352             4   \n",
       "1         6       15873                  2          0    22352             4   \n",
       "2         6       41897                  3          0    22352             4   \n",
       "3        12       30597                  1          1   152610            22   \n",
       "4        12       15221                  2          1   152610            22   \n",
       "5        12       43772                  3          1   152610            22   \n",
       "6        12       37886                  4          1   152610            22   \n",
       "7        12       37215                  5          0   152610            22   \n",
       "8        12       34335                  6          1   152610            22   \n",
       "9        12        3164                  7          0   152610            22   \n",
       "\n",
       "   order_dow  order_hour_of_day  days_since_prior_order  \n",
       "0          1                 12                    30.0  \n",
       "1          1                 12                    30.0  \n",
       "2          1                 12                    30.0  \n",
       "3          6                  8                    10.0  \n",
       "4          6                  8                    10.0  \n",
       "5          6                  8                    10.0  \n",
       "6          6                  8                    10.0  \n",
       "7          6                  8                    10.0  \n",
       "8          6                  8                    10.0  \n",
       "9          6                  8                    10.0  "
      ]
     },
     "execution_count": 112,
     "metadata": {},
     "output_type": "execute_result"
    }
   ],
   "source": [
    "daataframe_order_products_prior.head(10)"
   ]
  },
  {
   "cell_type": "code",
   "execution_count": 113,
   "metadata": {
    "ExecuteTime": {
     "end_time": "2019-02-12T01:01:21.105094Z",
     "start_time": "2019-02-12T01:01:21.055683Z"
    },
    "scrolled": true
   },
   "outputs": [
    {
     "name": "stderr",
     "output_type": "stream",
     "text": [
      "<ipython-input-113-6450acaeb10a>:1: FutureWarning: Indexing with multiple keys (implicitly converted to a tuple of keys) will be deprecated, use a list instead.\n",
      "  Delta_daataframe = daataframe_order_products_train.groupby(['user_id'])['order_dow','order_hour_of_day'].mean().reset_index()\n"
     ]
    }
   ],
   "source": [
    "Delta_daataframe = daataframe_order_products_train.groupby(['user_id'])['order_dow','order_hour_of_day'].mean().reset_index()"
   ]
  },
  {
   "cell_type": "code",
   "execution_count": 114,
   "metadata": {
    "ExecuteTime": {
     "end_time": "2019-02-12T01:01:22.462612Z",
     "start_time": "2019-02-12T01:01:22.451580Z"
    }
   },
   "outputs": [
    {
     "data": {
      "text/plain": [
       "(855812, 45)"
      ]
     },
     "execution_count": 114,
     "metadata": {},
     "output_type": "execute_result"
    }
   ],
   "source": [
    "daataframe_X.shape"
   ]
  },
  {
   "cell_type": "code",
   "execution_count": 115,
   "metadata": {
    "ExecuteTime": {
     "end_time": "2019-02-12T01:02:50.797790Z",
     "start_time": "2019-02-12T01:02:47.592061Z"
    }
   },
   "outputs": [],
   "source": [
    "daataframe_X2 = daataframe_X.merge(Delta_daataframe, on = 'user_id')"
   ]
  },
  {
   "cell_type": "code",
   "execution_count": 116,
   "metadata": {
    "ExecuteTime": {
     "end_time": "2019-02-12T01:02:52.602544Z",
     "start_time": "2019-02-12T01:02:52.586727Z"
    }
   },
   "outputs": [],
   "source": [
    "daataframe_X2['user_product_avg_hod_delta'] = daataframe_X2['order_hour_of_day'] - daataframe_X2['user_product_order_hour'] "
   ]
  },
  {
   "cell_type": "code",
   "execution_count": 117,
   "metadata": {
    "ExecuteTime": {
     "end_time": "2019-02-12T01:02:53.923923Z",
     "start_time": "2019-02-12T01:02:53.910218Z"
    }
   },
   "outputs": [],
   "source": [
    "daataframe_X2['user_product_avg_dow_delta'] = daataframe_X2['order_dow'] - daataframe_X2['user_product_order_dow']"
   ]
  },
  {
   "cell_type": "code",
   "execution_count": 118,
   "metadata": {
    "ExecuteTime": {
     "end_time": "2019-02-12T01:03:09.900004Z",
     "start_time": "2019-02-12T01:03:08.105477Z"
    }
   },
   "outputs": [],
   "source": [
    "daataframe_X3 = daataframe_X2.drop(columns = ['product_order_dow','product_order_hour'])"
   ]
  },
  {
   "cell_type": "code",
   "execution_count": 119,
   "metadata": {
    "ExecuteTime": {
     "end_time": "2019-02-12T01:03:12.863402Z",
     "start_time": "2019-02-12T01:03:12.831703Z"
    }
   },
   "outputs": [],
   "source": [
    "daataframe_X3['abs_user_prod_avg_hod_delta'] = daataframe_X3['user_product_avg_hod_delta'].abs()\n",
    "daataframe_X3['abs_user_product_avg_dow_delta'] = daataframe_X3['user_product_avg_dow_delta'].abs()"
   ]
  },
  {
   "cell_type": "code",
   "execution_count": 120,
   "metadata": {
    "ExecuteTime": {
     "end_time": "2019-02-12T00:56:15.090081Z",
     "start_time": "2019-02-12T00:51:22.115458Z"
    }
   },
   "outputs": [
    {
     "name": "stdout",
     "output_type": "stream",
     "text": [
      "0.821845457369846\n",
      "0.5411848373552076\n",
      "0.6526198308270676\n",
      "\n",
      "\n",
      "0.4566808309726157\n",
      "0.334978354978355\n",
      "0.3864748776346019\n"
     ]
    }
   ],
   "source": [
    "X_Train, X_Test, y_Train, y_Test = GetUserSplitData(daataframe_X3)\n",
    "\n",
    "Model_random_forest = RandomForestClassifier(n_jobs=-1, n_estimators = 100,min_samples_split=50, class_weight={1:9,0:1})\n",
    "\n",
    "\n",
    "Model_random_forest.fit(X_Train, y_Train)\n",
    "print(recall_score(y_Train,Model_random_forest.predict(X_Train)))\n",
    "print(precision_score(y_Train,Model_random_forest.predict(X_Train)))\n",
    "print(f1_score(y_Train,Model_random_forest.predict(X_Train)))\n",
    "\n",
    "print('\\n')\n",
    "\n",
    "print(recall_score(y_Test,Model_random_forest.predict(X_Test)))\n",
    "print(precision_score(y_Test,Model_random_forest.predict(X_Test)))\n",
    "print(f1_score(y_Test,Model_random_forest.predict(X_Test)))"
   ]
  },
  {
   "cell_type": "code",
   "execution_count": 121,
   "metadata": {
    "ExecuteTime": {
     "end_time": "2019-02-12T01:09:11.647163Z",
     "start_time": "2019-02-12T01:09:11.317386Z"
    }
   },
   "outputs": [
    {
     "data": {
      "text/html": [
       "<div>\n",
       "<style scoped>\n",
       "    .dataframe tbody tr th:only-of-type {\n",
       "        vertical-align: middle;\n",
       "    }\n",
       "\n",
       "    .dataframe tbody tr th {\n",
       "        vertical-align: top;\n",
       "    }\n",
       "\n",
       "    .dataframe thead th {\n",
       "        text-align: right;\n",
       "    }\n",
       "</style>\n",
       "<table border=\"1\" class=\"dataframe\">\n",
       "  <thead>\n",
       "    <tr style=\"text-align: right;\">\n",
       "      <th></th>\n",
       "      <th>user_id</th>\n",
       "      <th>user_order_num_max</th>\n",
       "    </tr>\n",
       "  </thead>\n",
       "  <tbody>\n",
       "    <tr>\n",
       "      <th>0</th>\n",
       "      <td>4</td>\n",
       "      <td>5</td>\n",
       "    </tr>\n",
       "    <tr>\n",
       "      <th>1</th>\n",
       "      <td>20</td>\n",
       "      <td>4</td>\n",
       "    </tr>\n",
       "    <tr>\n",
       "      <th>2</th>\n",
       "      <td>22</td>\n",
       "      <td>15</td>\n",
       "    </tr>\n",
       "    <tr>\n",
       "      <th>3</th>\n",
       "      <td>25</td>\n",
       "      <td>3</td>\n",
       "    </tr>\n",
       "    <tr>\n",
       "      <th>4</th>\n",
       "      <td>59</td>\n",
       "      <td>10</td>\n",
       "    </tr>\n",
       "    <tr>\n",
       "      <th>5</th>\n",
       "      <td>77</td>\n",
       "      <td>12</td>\n",
       "    </tr>\n",
       "    <tr>\n",
       "      <th>6</th>\n",
       "      <td>100</td>\n",
       "      <td>5</td>\n",
       "    </tr>\n",
       "    <tr>\n",
       "      <th>7</th>\n",
       "      <td>103</td>\n",
       "      <td>17</td>\n",
       "    </tr>\n",
       "    <tr>\n",
       "      <th>8</th>\n",
       "      <td>109</td>\n",
       "      <td>6</td>\n",
       "    </tr>\n",
       "    <tr>\n",
       "      <th>9</th>\n",
       "      <td>141</td>\n",
       "      <td>4</td>\n",
       "    </tr>\n",
       "  </tbody>\n",
       "</table>\n",
       "</div>"
      ],
      "text/plain": [
       "   user_id  user_order_num_max\n",
       "0        4                   5\n",
       "1       20                   4\n",
       "2       22                  15\n",
       "3       25                   3\n",
       "4       59                  10\n",
       "5       77                  12\n",
       "6      100                   5\n",
       "7      103                  17\n",
       "8      109                   6\n",
       "9      141                   4"
      ]
     },
     "execution_count": 121,
     "metadata": {},
     "output_type": "execute_result"
    }
   ],
   "source": [
    "Percentage_User_daataframe = daataframe_order_products_prior.groupby('user_id')['order_number'].max().reset_index()\n",
    "Percentage_User_daataframe.columns = ['user_id','user_order_num_max']\n",
    "Percentage_User_daataframe.head(10)"
   ]
  },
  {
   "cell_type": "code",
   "execution_count": 122,
   "metadata": {
    "ExecuteTime": {
     "end_time": "2019-02-12T01:09:15.773443Z",
     "start_time": "2019-02-12T01:09:14.391389Z"
    }
   },
   "outputs": [],
   "source": [
    "Percentage_User_daataframe2 = daataframe_order_products_prior.merge(Percentage_User_daataframe, on = 'user_id')"
   ]
  },
  {
   "cell_type": "code",
   "execution_count": 123,
   "metadata": {
    "ExecuteTime": {
     "end_time": "2019-02-12T01:09:16.649680Z",
     "start_time": "2019-02-12T01:09:16.591842Z"
    }
   },
   "outputs": [],
   "source": [
    "Percentage_User_daataframe2['user_order_num_perc'] = Percentage_User_daataframe2['order_number'] / Percentage_User_daataframe2['user_order_num_max']"
   ]
  },
  {
   "cell_type": "code",
   "execution_count": 124,
   "metadata": {
    "ExecuteTime": {
     "end_time": "2019-02-12T01:09:20.774159Z",
     "start_time": "2019-02-12T01:09:18.855590Z"
    },
    "scrolled": true
   },
   "outputs": [],
   "source": [
    "Percentage_User_daataframe2 = Percentage_User_daataframe2.groupby(['user_id','product_id'])['user_order_num_perc'].max().reset_index()"
   ]
  },
  {
   "cell_type": "code",
   "execution_count": 125,
   "metadata": {
    "ExecuteTime": {
     "end_time": "2019-02-12T01:09:29.425191Z",
     "start_time": "2019-02-12T01:09:25.923875Z"
    },
    "scrolled": true
   },
   "outputs": [],
   "source": [
    "daataframe_X = daataframe_X3.merge(Percentage_User_daataframe2, on =['user_id','product_id'])"
   ]
  },
  {
   "cell_type": "code",
   "execution_count": 126,
   "metadata": {
    "ExecuteTime": {
     "end_time": "2019-02-12T01:14:32.139727Z",
     "start_time": "2019-02-12T01:09:30.534282Z"
    }
   },
   "outputs": [
    {
     "name": "stdout",
     "output_type": "stream",
     "text": [
      "0.8412853401979495\n",
      "0.5398131799282337\n",
      "0.657645936334461\n",
      "\n",
      "\n",
      "0.5180594900849859\n",
      "0.36202416793830167\n",
      "0.426209608895147\n"
     ]
    }
   ],
   "source": [
    "X_Train, X_Test, y_Train, y_Test = GetUserSplitData(daataframe_X)\n",
    "\n",
    "Model_random_forest = RandomForestClassifier(n_jobs=-1, n_estimators = 100,min_samples_split=50, class_weight={1:9,0:1})\n",
    "\n",
    "\n",
    "Model_random_forest.fit(X_Train, y_Train)\n",
    "print(recall_score(y_Train,Model_random_forest.predict(X_Train)))\n",
    "print(precision_score(y_Train,Model_random_forest.predict(X_Train)))\n",
    "print(f1_score(y_Train,Model_random_forest.predict(X_Train)))\n",
    "\n",
    "print('\\n')\n",
    "\n",
    "print(recall_score(y_Test,Model_random_forest.predict(X_Test)))\n",
    "print(precision_score(y_Test,Model_random_forest.predict(X_Test)))\n",
    "print(f1_score(y_Test,Model_random_forest.predict(X_Test)))"
   ]
  },
  {
   "cell_type": "code",
   "execution_count": 127,
   "metadata": {
    "ExecuteTime": {
     "end_time": "2019-02-12T01:20:23.756714Z",
     "start_time": "2019-02-12T01:19:11.622069Z"
    }
   },
   "outputs": [],
   "source": [
    "daataframe_X.to_csv('dataframe_X_pre_XGB.csv', index=False)"
   ]
  },
  {
   "cell_type": "code",
   "execution_count": 128,
   "metadata": {},
   "outputs": [],
   "source": [
    "X_Train, X_Test, y_Train, y_Test = GetUserSplitData(daataframe_X)"
   ]
  },
  {
   "cell_type": "code",
   "execution_count": 129,
   "metadata": {
    "ExecuteTime": {
     "start_time": "2019-02-12T01:24:38.829Z"
    }
   },
   "outputs": [
    {
     "name": "stderr",
     "output_type": "stream",
     "text": [
      "C:\\ProgramData\\Anaconda2021\\lib\\site-packages\\xgboost\\sklearn.py:888: UserWarning: The use of label encoder in XGBClassifier is deprecated and will be removed in a future release. To remove this warning, do the following: 1) Pass option use_label_encoder=False when constructing XGBClassifier object; and 2) Encode your labels (y) as integers starting with 0, i.e. 0, 1, 2, ..., [num_class - 1].\n",
      "  warnings.warn(label_encoder_deprecation_msg, UserWarning)\n"
     ]
    },
    {
     "name": "stdout",
     "output_type": "stream",
     "text": [
      "[0]\tvalidation_0-auc:0.78732\tvalidation_1-auc:0.78440\n",
      "[1]\tvalidation_0-auc:0.81654\tvalidation_1-auc:0.81391\n",
      "[2]\tvalidation_0-auc:0.82005\tvalidation_1-auc:0.81741\n",
      "[3]\tvalidation_0-auc:0.81790\tvalidation_1-auc:0.81495\n",
      "[4]\tvalidation_0-auc:0.82130\tvalidation_1-auc:0.81866\n",
      "[5]\tvalidation_0-auc:0.82273\tvalidation_1-auc:0.82050\n",
      "[6]\tvalidation_0-auc:0.82336\tvalidation_1-auc:0.82120\n",
      "[7]\tvalidation_0-auc:0.82376\tvalidation_1-auc:0.82166\n",
      "[8]\tvalidation_0-auc:0.82423\tvalidation_1-auc:0.82225\n",
      "[9]\tvalidation_0-auc:0.82450\tvalidation_1-auc:0.82245\n",
      "[10]\tvalidation_0-auc:0.82486\tvalidation_1-auc:0.82280\n",
      "[11]\tvalidation_0-auc:0.82489\tvalidation_1-auc:0.82272\n",
      "[12]\tvalidation_0-auc:0.82523\tvalidation_1-auc:0.82308\n",
      "[13]\tvalidation_0-auc:0.82556\tvalidation_1-auc:0.82338\n",
      "[14]\tvalidation_0-auc:0.82561\tvalidation_1-auc:0.82334\n",
      "[15]\tvalidation_0-auc:0.82596\tvalidation_1-auc:0.82365\n",
      "[16]\tvalidation_0-auc:0.82621\tvalidation_1-auc:0.82384\n",
      "[17]\tvalidation_0-auc:0.82644\tvalidation_1-auc:0.82412\n",
      "[18]\tvalidation_0-auc:0.82667\tvalidation_1-auc:0.82439\n",
      "[19]\tvalidation_0-auc:0.82689\tvalidation_1-auc:0.82462\n",
      "[20]\tvalidation_0-auc:0.82705\tvalidation_1-auc:0.82482\n",
      "[21]\tvalidation_0-auc:0.82721\tvalidation_1-auc:0.82485\n",
      "[22]\tvalidation_0-auc:0.82751\tvalidation_1-auc:0.82515\n",
      "[23]\tvalidation_0-auc:0.82780\tvalidation_1-auc:0.82541\n",
      "[24]\tvalidation_0-auc:0.82793\tvalidation_1-auc:0.82544\n",
      "[25]\tvalidation_0-auc:0.82816\tvalidation_1-auc:0.82563\n",
      "[26]\tvalidation_0-auc:0.82837\tvalidation_1-auc:0.82581\n",
      "[27]\tvalidation_0-auc:0.82855\tvalidation_1-auc:0.82597\n",
      "[28]\tvalidation_0-auc:0.82869\tvalidation_1-auc:0.82597\n",
      "[29]\tvalidation_0-auc:0.82885\tvalidation_1-auc:0.82608\n",
      "[30]\tvalidation_0-auc:0.82903\tvalidation_1-auc:0.82623\n",
      "[31]\tvalidation_0-auc:0.82921\tvalidation_1-auc:0.82635\n",
      "[32]\tvalidation_0-auc:0.82937\tvalidation_1-auc:0.82644\n",
      "[33]\tvalidation_0-auc:0.82947\tvalidation_1-auc:0.82650\n",
      "[34]\tvalidation_0-auc:0.82967\tvalidation_1-auc:0.82663\n",
      "[35]\tvalidation_0-auc:0.82982\tvalidation_1-auc:0.82671\n",
      "[36]\tvalidation_0-auc:0.82997\tvalidation_1-auc:0.82683\n",
      "[37]\tvalidation_0-auc:0.83013\tvalidation_1-auc:0.82696\n",
      "[38]\tvalidation_0-auc:0.83029\tvalidation_1-auc:0.82702\n",
      "[39]\tvalidation_0-auc:0.83049\tvalidation_1-auc:0.82708\n",
      "[40]\tvalidation_0-auc:0.83066\tvalidation_1-auc:0.82716\n",
      "[41]\tvalidation_0-auc:0.83083\tvalidation_1-auc:0.82724\n",
      "[42]\tvalidation_0-auc:0.83097\tvalidation_1-auc:0.82730\n",
      "[43]\tvalidation_0-auc:0.83110\tvalidation_1-auc:0.82734\n",
      "[44]\tvalidation_0-auc:0.83124\tvalidation_1-auc:0.82737\n",
      "[45]\tvalidation_0-auc:0.83138\tvalidation_1-auc:0.82744\n",
      "[46]\tvalidation_0-auc:0.83150\tvalidation_1-auc:0.82751\n",
      "[47]\tvalidation_0-auc:0.83166\tvalidation_1-auc:0.82750\n",
      "[48]\tvalidation_0-auc:0.83180\tvalidation_1-auc:0.82755\n",
      "[49]\tvalidation_0-auc:0.83192\tvalidation_1-auc:0.82758\n",
      "[50]\tvalidation_0-auc:0.83207\tvalidation_1-auc:0.82759\n",
      "[51]\tvalidation_0-auc:0.83218\tvalidation_1-auc:0.82763\n",
      "[52]\tvalidation_0-auc:0.83227\tvalidation_1-auc:0.82767\n",
      "[53]\tvalidation_0-auc:0.83245\tvalidation_1-auc:0.82765\n",
      "[54]\tvalidation_0-auc:0.83257\tvalidation_1-auc:0.82770\n",
      "[55]\tvalidation_0-auc:0.83263\tvalidation_1-auc:0.82772\n",
      "[56]\tvalidation_0-auc:0.83276\tvalidation_1-auc:0.82776\n",
      "[57]\tvalidation_0-auc:0.83283\tvalidation_1-auc:0.82776\n",
      "[58]\tvalidation_0-auc:0.83293\tvalidation_1-auc:0.82779\n",
      "[59]\tvalidation_0-auc:0.83303\tvalidation_1-auc:0.82778\n",
      "[60]\tvalidation_0-auc:0.83323\tvalidation_1-auc:0.82779\n",
      "[61]\tvalidation_0-auc:0.83333\tvalidation_1-auc:0.82782\n",
      "[62]\tvalidation_0-auc:0.83340\tvalidation_1-auc:0.82787\n",
      "[63]\tvalidation_0-auc:0.83349\tvalidation_1-auc:0.82788\n",
      "[64]\tvalidation_0-auc:0.83356\tvalidation_1-auc:0.82789\n",
      "[65]\tvalidation_0-auc:0.83365\tvalidation_1-auc:0.82791\n",
      "[66]\tvalidation_0-auc:0.83375\tvalidation_1-auc:0.82796\n",
      "[67]\tvalidation_0-auc:0.83392\tvalidation_1-auc:0.82800\n",
      "[68]\tvalidation_0-auc:0.83403\tvalidation_1-auc:0.82803\n",
      "[69]\tvalidation_0-auc:0.83417\tvalidation_1-auc:0.82804\n",
      "[70]\tvalidation_0-auc:0.83425\tvalidation_1-auc:0.82805\n",
      "[71]\tvalidation_0-auc:0.83437\tvalidation_1-auc:0.82808\n",
      "[72]\tvalidation_0-auc:0.83445\tvalidation_1-auc:0.82808\n",
      "[73]\tvalidation_0-auc:0.83457\tvalidation_1-auc:0.82812\n",
      "[74]\tvalidation_0-auc:0.83463\tvalidation_1-auc:0.82812\n",
      "[75]\tvalidation_0-auc:0.83470\tvalidation_1-auc:0.82815\n",
      "[76]\tvalidation_0-auc:0.83478\tvalidation_1-auc:0.82818\n",
      "[77]\tvalidation_0-auc:0.83486\tvalidation_1-auc:0.82821\n",
      "[78]\tvalidation_0-auc:0.83499\tvalidation_1-auc:0.82824\n",
      "[79]\tvalidation_0-auc:0.83505\tvalidation_1-auc:0.82821\n",
      "[80]\tvalidation_0-auc:0.83514\tvalidation_1-auc:0.82824\n",
      "[81]\tvalidation_0-auc:0.83524\tvalidation_1-auc:0.82826\n",
      "[82]\tvalidation_0-auc:0.83538\tvalidation_1-auc:0.82822\n",
      "[83]\tvalidation_0-auc:0.83542\tvalidation_1-auc:0.82824\n",
      "[84]\tvalidation_0-auc:0.83548\tvalidation_1-auc:0.82825\n",
      "[85]\tvalidation_0-auc:0.83558\tvalidation_1-auc:0.82823\n",
      "[86]\tvalidation_0-auc:0.83561\tvalidation_1-auc:0.82824\n",
      "[87]\tvalidation_0-auc:0.83573\tvalidation_1-auc:0.82829\n",
      "[88]\tvalidation_0-auc:0.83582\tvalidation_1-auc:0.82833\n",
      "[89]\tvalidation_0-auc:0.83598\tvalidation_1-auc:0.82832\n",
      "[90]\tvalidation_0-auc:0.83607\tvalidation_1-auc:0.82835\n",
      "[91]\tvalidation_0-auc:0.83617\tvalidation_1-auc:0.82838\n",
      "[92]\tvalidation_0-auc:0.83628\tvalidation_1-auc:0.82839\n",
      "[93]\tvalidation_0-auc:0.83639\tvalidation_1-auc:0.82846\n",
      "[94]\tvalidation_0-auc:0.83653\tvalidation_1-auc:0.82843\n",
      "[95]\tvalidation_0-auc:0.83664\tvalidation_1-auc:0.82843\n",
      "[96]\tvalidation_0-auc:0.83673\tvalidation_1-auc:0.82848\n",
      "[97]\tvalidation_0-auc:0.83679\tvalidation_1-auc:0.82850\n",
      "[98]\tvalidation_0-auc:0.83689\tvalidation_1-auc:0.82849\n",
      "[99]\tvalidation_0-auc:0.83696\tvalidation_1-auc:0.82848\n",
      "[100]\tvalidation_0-auc:0.83706\tvalidation_1-auc:0.82849\n",
      "[101]\tvalidation_0-auc:0.83715\tvalidation_1-auc:0.82849\n",
      "[102]\tvalidation_0-auc:0.83727\tvalidation_1-auc:0.82855\n",
      "[103]\tvalidation_0-auc:0.83735\tvalidation_1-auc:0.82855\n",
      "[104]\tvalidation_0-auc:0.83749\tvalidation_1-auc:0.82856\n",
      "[105]\tvalidation_0-auc:0.83760\tvalidation_1-auc:0.82858\n",
      "[106]\tvalidation_0-auc:0.83769\tvalidation_1-auc:0.82861\n",
      "[107]\tvalidation_0-auc:0.83778\tvalidation_1-auc:0.82860\n",
      "[108]\tvalidation_0-auc:0.83787\tvalidation_1-auc:0.82862\n",
      "[109]\tvalidation_0-auc:0.83796\tvalidation_1-auc:0.82860\n",
      "[110]\tvalidation_0-auc:0.83806\tvalidation_1-auc:0.82863\n",
      "[111]\tvalidation_0-auc:0.83818\tvalidation_1-auc:0.82864\n",
      "[112]\tvalidation_0-auc:0.83827\tvalidation_1-auc:0.82866\n",
      "[113]\tvalidation_0-auc:0.83831\tvalidation_1-auc:0.82866\n",
      "[114]\tvalidation_0-auc:0.83838\tvalidation_1-auc:0.82865\n",
      "[115]\tvalidation_0-auc:0.83846\tvalidation_1-auc:0.82865\n",
      "[116]\tvalidation_0-auc:0.83856\tvalidation_1-auc:0.82866\n",
      "[117]\tvalidation_0-auc:0.83859\tvalidation_1-auc:0.82864\n",
      "[118]\tvalidation_0-auc:0.83868\tvalidation_1-auc:0.82868\n",
      "[119]\tvalidation_0-auc:0.83875\tvalidation_1-auc:0.82869\n",
      "[120]\tvalidation_0-auc:0.83881\tvalidation_1-auc:0.82869\n",
      "[121]\tvalidation_0-auc:0.83886\tvalidation_1-auc:0.82870\n",
      "[122]\tvalidation_0-auc:0.83896\tvalidation_1-auc:0.82871\n",
      "[123]\tvalidation_0-auc:0.83904\tvalidation_1-auc:0.82871\n",
      "[124]\tvalidation_0-auc:0.83913\tvalidation_1-auc:0.82878\n",
      "[125]\tvalidation_0-auc:0.83921\tvalidation_1-auc:0.82880\n",
      "[126]\tvalidation_0-auc:0.83927\tvalidation_1-auc:0.82881\n",
      "[127]\tvalidation_0-auc:0.83935\tvalidation_1-auc:0.82879\n",
      "[128]\tvalidation_0-auc:0.83945\tvalidation_1-auc:0.82881\n",
      "[129]\tvalidation_0-auc:0.83955\tvalidation_1-auc:0.82880\n",
      "[130]\tvalidation_0-auc:0.83966\tvalidation_1-auc:0.82879\n",
      "[131]\tvalidation_0-auc:0.83970\tvalidation_1-auc:0.82879\n",
      "[132]\tvalidation_0-auc:0.83979\tvalidation_1-auc:0.82878\n",
      "[133]\tvalidation_0-auc:0.83986\tvalidation_1-auc:0.82875\n",
      "[134]\tvalidation_0-auc:0.83993\tvalidation_1-auc:0.82875\n",
      "[135]\tvalidation_0-auc:0.83998\tvalidation_1-auc:0.82876\n",
      "[136]\tvalidation_0-auc:0.84004\tvalidation_1-auc:0.82875\n",
      "[137]\tvalidation_0-auc:0.84015\tvalidation_1-auc:0.82877\n",
      "[138]\tvalidation_0-auc:0.84025\tvalidation_1-auc:0.82879\n",
      "[139]\tvalidation_0-auc:0.84033\tvalidation_1-auc:0.82883\n",
      "[140]\tvalidation_0-auc:0.84040\tvalidation_1-auc:0.82885\n",
      "[141]\tvalidation_0-auc:0.84049\tvalidation_1-auc:0.82884\n",
      "[142]\tvalidation_0-auc:0.84054\tvalidation_1-auc:0.82882\n",
      "[143]\tvalidation_0-auc:0.84059\tvalidation_1-auc:0.82880\n",
      "[144]\tvalidation_0-auc:0.84070\tvalidation_1-auc:0.82879\n",
      "[145]\tvalidation_0-auc:0.84077\tvalidation_1-auc:0.82880\n",
      "[146]\tvalidation_0-auc:0.84089\tvalidation_1-auc:0.82881\n",
      "[147]\tvalidation_0-auc:0.84096\tvalidation_1-auc:0.82881\n",
      "[148]\tvalidation_0-auc:0.84103\tvalidation_1-auc:0.82882\n",
      "[149]\tvalidation_0-auc:0.84111\tvalidation_1-auc:0.82882\n",
      "[150]\tvalidation_0-auc:0.84118\tvalidation_1-auc:0.82881\n",
      "[151]\tvalidation_0-auc:0.84123\tvalidation_1-auc:0.82878\n",
      "[152]\tvalidation_0-auc:0.84125\tvalidation_1-auc:0.82879\n",
      "[153]\tvalidation_0-auc:0.84130\tvalidation_1-auc:0.82878\n",
      "[154]\tvalidation_0-auc:0.84140\tvalidation_1-auc:0.82876\n",
      "[155]\tvalidation_0-auc:0.84147\tvalidation_1-auc:0.82876\n",
      "[156]\tvalidation_0-auc:0.84153\tvalidation_1-auc:0.82874\n",
      "[157]\tvalidation_0-auc:0.84161\tvalidation_1-auc:0.82876\n",
      "[158]\tvalidation_0-auc:0.84164\tvalidation_1-auc:0.82876\n",
      "[159]\tvalidation_0-auc:0.84173\tvalidation_1-auc:0.82876\n",
      "[160]\tvalidation_0-auc:0.84178\tvalidation_1-auc:0.82874\n"
     ]
    },
    {
     "data": {
      "text/plain": [
       "XGBClassifier(base_score=0.5, booster='gbtree', colsample_bylevel=1,\n",
       "              colsample_bynode=1, colsample_bytree=0.8, gamma=0, gpu_id=-1,\n",
       "              importance_type='gain', interaction_constraints='',\n",
       "              learning_rate=0.1, max_delta_step=0, max_depth=5,\n",
       "              min_child_weight=4, missing=nan, monotone_constraints='()',\n",
       "              n_estimators=30000, n_jobs=-1, num_parallel_tree=1,\n",
       "              random_state=0, reg_alpha=0, reg_lambda=1, scale_pos_weight=4,\n",
       "              subsample=1, tree_method='exact', validate_parameters=1,\n",
       "              verbosity=None)"
      ]
     },
     "execution_count": 129,
     "metadata": {},
     "output_type": "execute_result"
    }
   ],
   "source": [
    "Model_Gradient_Boosting = xgb.XGBClassifier(n_jobs=-1,\n",
    "                       n_estimators=30000,\n",
    "                       max_depth=5,\n",
    "                       objective= 'binary:logistic', \n",
    "                       learning_rate=.1,\n",
    "                       subsample=1,\n",
    "                       min_child_weight=4,\n",
    "                       colsample_bytree=.8,\n",
    "                       scale_pos_weight=4\n",
    "              )\n",
    "\n",
    "eval_set=[(X_Train,y_Train),(X_Test,y_Test)]\n",
    "Model_Gradient_Boosting.fit(\n",
    "                   X_Train, y_Train,\n",
    "                   eval_set=eval_set,\n",
    "                   eval_metric='auc', \n",
    "                   early_stopping_rounds=20, \n",
    "                   verbose=True \n",
    "                  )"
   ]
  },
  {
   "cell_type": "code",
   "execution_count": 130,
   "metadata": {},
   "outputs": [
    {
     "name": "stdout",
     "output_type": "stream",
     "text": [
      "0.4324164884595531\n"
     ]
    }
   ],
   "source": [
    "print(f1_score(y_Test,Model_Gradient_Boosting.predict(X_Test)))"
   ]
  },
  {
   "cell_type": "code",
   "execution_count": 131,
   "metadata": {},
   "outputs": [
    {
     "name": "stdout",
     "output_type": "stream",
     "text": [
      "0.44907262848935237\n"
     ]
    }
   ],
   "source": [
    "print(f1_score(y_Train,Model_Gradient_Boosting.predict(X_Train)))"
   ]
  },
  {
   "cell_type": "code",
   "execution_count": 132,
   "metadata": {},
   "outputs": [
    {
     "name": "stdout",
     "output_type": "stream",
     "text": [
      "0.5319337801251609\n",
      "0.388547283789187\n",
      "0.44907262848935237\n",
      "\n",
      "\n",
      "0.5191218130311614\n",
      "0.3705295084038923\n",
      "0.4324164884595531\n"
     ]
    }
   ],
   "source": [
    "print(recall_score(y_Train,Model_Gradient_Boosting.predict(X_Train)))\n",
    "print(precision_score(y_Train,Model_Gradient_Boosting.predict(X_Train)))\n",
    "print(f1_score(y_Train,Model_Gradient_Boosting.predict(X_Train)))\n",
    "\n",
    "print('\\n')\n",
    "\n",
    "print(recall_score(y_Test,Model_Gradient_Boosting.predict(X_Test)))\n",
    "print(precision_score(y_Test,Model_Gradient_Boosting.predict(X_Test)))\n",
    "print(f1_score(y_Test,Model_Gradient_Boosting.predict(X_Test)))"
   ]
  },
  {
   "cell_type": "code",
   "execution_count": 133,
   "metadata": {},
   "outputs": [
    {
     "data": {
      "text/plain": [
       "array([[140510,  14943],\n",
       "       [  8148,   8796]], dtype=int64)"
      ]
     },
     "execution_count": 133,
     "metadata": {},
     "output_type": "execute_result"
    }
   ],
   "source": [
    "confusion_matrix(y_Test, Model_Gradient_Boosting.predict(X_Test))"
   ]
  },
  {
   "cell_type": "code",
   "execution_count": 136,
   "metadata": {},
   "outputs": [
    {
     "name": "stderr",
     "output_type": "stream",
     "text": [
      "<ipython-input-136-14f427c4d5fa>:2: RuntimeWarning: divide by zero encountered in true_divide\n",
      "  f1_curve = 2/(1/Curve_Recall + 1/Curve_Precision)\n"
     ]
    },
    {
     "data": {
      "image/png": "[encoded data removed]",
      "text/plain": [
       "<Figure size 3000x2000 with 1 Axes>"
      ]
     },
     "metadata": {
      "needs_background": "light"
     },
     "output_type": "display_data"
    }
   ],
   "source": [
    "Curve_Precision, Curve_Recall, Curve_Threshold = precision_recall_curve(y_Test, Model_Gradient_Boosting.predict_proba(X_Test)[:,1] )\n",
    "f1_curve = 2/(1/Curve_Recall + 1/Curve_Precision)\n",
    "\n",
    "plt.figure(dpi=500)\n",
    "plt.plot(Curve_Threshold, Curve_Precision[1:],label='PRECISION', color = 'g')\n",
    "plt.plot(Curve_Threshold, Curve_Recall[1:], label='RECALL',color = 'r')\n",
    "plt.plot(Curve_Threshold, f1_curve[1:], label='F1',color = 'b')\n",
    "plt.legend(loc='upper right')\n",
    "plt.xlabel('Threshold');\n",
    "plt.title('PRECISION, RECALL & F1 CURVES');"
   ]
  },
  {
   "cell_type": "code",
   "execution_count": 179,
   "metadata": {},
   "outputs": [
    {
     "name": "stderr",
     "output_type": "stream",
     "text": [
      "C:\\Users\\LENOVO\\AppData\\Roaming\\Python\\Python38\\site-packages\\sklearn\\linear_model\\_logistic.py:763: ConvergenceWarning: lbfgs failed to converge (status=1):\n",
      "STOP: TOTAL NO. of ITERATIONS REACHED LIMIT.\n",
      "\n",
      "Increase the number of iterations (max_iter) or scale the data as shown in:\n",
      "    https://scikit-learn.org/stable/modules/preprocessing.html\n",
      "Please also refer to the documentation for alternative solver options:\n",
      "    https://scikit-learn.org/stable/modules/linear_model.html#logistic-regression\n",
      "  n_iter_i = _check_optimize_result(\n"
     ]
    },
    {
     "data": {
      "text/plain": [
       "LogisticRegression(class_weight={0: 1, 1: 3})"
      ]
     },
     "execution_count": 179,
     "metadata": {},
     "output_type": "execute_result"
    }
   ],
   "source": [
    "logistic_regression_grocery = LogisticRegression(class_weight={1:3,0:1})\n",
    "logistic_regression_grocery.fit(X_Train, y_Train)"
   ]
  },
  {
   "cell_type": "code",
   "execution_count": 180,
   "metadata": {},
   "outputs": [
    {
     "data": {
      "text/plain": [
       "0.36856230031948883"
      ]
     },
     "execution_count": 180,
     "metadata": {},
     "output_type": "execute_result"
    }
   ],
   "source": [
    "f1_score(y_Test,logistic_regression_grocery.predict(X_Test))"
   ]
  },
  {
   "cell_type": "code",
   "execution_count": 181,
   "metadata": {},
   "outputs": [],
   "source": [
    "logistic_regression_grocery_values=[]\n",
    "rf_values=[]\n",
    "gb_values=[]"
   ]
  },
  {
   "cell_type": "code",
   "execution_count": 182,
   "metadata": {},
   "outputs": [],
   "source": [
    "logistic_regression_grocery_values.append(precision_score(y_Test,logistic_regression_grocery.predict(X_Test)))\n",
    "logistic_regression_grocery_values.append(recall_score(y_Test,logistic_regression_grocery.predict(X_Test)))\n",
    "logistic_regression_grocery_values.append(f1_score(y_Test,logistic_regression_grocery.predict(X_Test)))\n",
    "\n",
    "rf_values.append(precision_score(y_Test,Model_random_forest.predict(X_Test)))\n",
    "rf_values.append(recall_score(y_Test,Model_random_forest.predict(X_Test)))\n",
    "rf_values.append(f1_score(y_Test,Model_random_forest.predict(X_Test)))\n",
    "\n",
    "gb_values.append(precision_score(y_Test,Model_Gradient_Boosting.predict(X_Test)))\n",
    "gb_values.append(recall_score(y_Test,Model_Gradient_Boosting.predict(X_Test)))\n",
    "gb_values.append(f1_score(y_Test,Model_Gradient_Boosting.predict(X_Test)))"
   ]
  },
  {
   "cell_type": "code",
   "execution_count": 183,
   "metadata": {},
   "outputs": [
    {
     "data": {
      "text/plain": [
       "[0.4017832265254946, 0.3404154863078376, 0.36856230031948883]"
      ]
     },
     "execution_count": 183,
     "metadata": {},
     "output_type": "execute_result"
    }
   ],
   "source": [
    "logistic_regression_grocery_values"
   ]
  },
  {
   "cell_type": "code",
   "execution_count": 184,
   "metadata": {},
   "outputs": [
    {
     "data": {
      "text/plain": [
       "[0.36202416793830167, 0.5180594900849859, 0.426209608895147]"
      ]
     },
     "execution_count": 184,
     "metadata": {},
     "output_type": "execute_result"
    }
   ],
   "source": [
    "rf_values"
   ]
  },
  {
   "cell_type": "code",
   "execution_count": 185,
   "metadata": {},
   "outputs": [
    {
     "data": {
      "text/plain": [
       "[0.3705295084038923, 0.5191218130311614, 0.4324164884595531]"
      ]
     },
     "execution_count": 185,
     "metadata": {},
     "output_type": "execute_result"
    }
   ],
   "source": [
    "gb_values"
   ]
  },
  {
   "cell_type": "code",
   "execution_count": 186,
   "metadata": {},
   "outputs": [],
   "source": [
    "import matplotlib.lines as mlines\n",
    "import matplotlib.style as style\n",
    "style.available\n",
    "\n",
    "style.use('seaborn-whitegrid')"
   ]
  },
  {
   "cell_type": "code",
   "execution_count": 187,
   "metadata": {},
   "outputs": [],
   "source": [
    "Graph_daataframe = pd.DataFrame([logistic_regression_grocery_values,rf_values,gb_values])"
   ]
  },
  {
   "cell_type": "code",
   "execution_count": 188,
   "metadata": {},
   "outputs": [],
   "source": [
    "Graph_daataframe.columns = ['Precision','Recall','F1']"
   ]
  },
  {
   "cell_type": "code",
   "execution_count": 189,
   "metadata": {},
   "outputs": [],
   "source": [
    "Graph_daataframe = Graph_daataframe.rename({2: 'Logistic Regression', 1: 'Random Forest', 0:'Gradient Boosting'})"
   ]
  },
  {
   "cell_type": "code",
   "execution_count": 190,
   "metadata": {
    "scrolled": true
   },
   "outputs": [
    {
     "data": {
      "text/html": [
       "<div>\n",
       "<style scoped>\n",
       "    .dataframe tbody tr th:only-of-type {\n",
       "        vertical-align: middle;\n",
       "    }\n",
       "\n",
       "    .dataframe tbody tr th {\n",
       "        vertical-align: top;\n",
       "    }\n",
       "\n",
       "    .dataframe thead th {\n",
       "        text-align: right;\n",
       "    }\n",
       "</style>\n",
       "<table border=\"1\" class=\"dataframe\">\n",
       "  <thead>\n",
       "    <tr style=\"text-align: right;\">\n",
       "      <th></th>\n",
       "      <th>Precision</th>\n",
       "      <th>Recall</th>\n",
       "      <th>F1</th>\n",
       "    </tr>\n",
       "  </thead>\n",
       "  <tbody>\n",
       "    <tr>\n",
       "      <th>Gradient Boosting</th>\n",
       "      <td>0.401783</td>\n",
       "      <td>0.340415</td>\n",
       "      <td>0.368562</td>\n",
       "    </tr>\n",
       "    <tr>\n",
       "      <th>Random Forest</th>\n",
       "      <td>0.362024</td>\n",
       "      <td>0.518059</td>\n",
       "      <td>0.426210</td>\n",
       "    </tr>\n",
       "    <tr>\n",
       "      <th>Logistic Regression</th>\n",
       "      <td>0.370530</td>\n",
       "      <td>0.519122</td>\n",
       "      <td>0.432416</td>\n",
       "    </tr>\n",
       "  </tbody>\n",
       "</table>\n",
       "</div>"
      ],
      "text/plain": [
       "                     Precision    Recall        F1\n",
       "Gradient Boosting     0.401783  0.340415  0.368562\n",
       "Random Forest         0.362024  0.518059  0.426210\n",
       "Logistic Regression   0.370530  0.519122  0.432416"
      ]
     },
     "execution_count": 190,
     "metadata": {},
     "output_type": "execute_result"
    }
   ],
   "source": [
    "Graph_daataframe"
   ]
  },
  {
   "cell_type": "code",
   "execution_count": 191,
   "metadata": {},
   "outputs": [],
   "source": [
    "Bars_A = logistic_regression_grocery_values\n",
    "Bars_B = rf_values\n",
    "Bars_C = gb_values"
   ]
  },
  {
   "cell_type": "code",
   "execution_count": 192,
   "metadata": {},
   "outputs": [],
   "source": [
    "barWidth = 0.1"
   ]
  },
  {
   "cell_type": "code",
   "execution_count": 193,
   "metadata": {},
   "outputs": [],
   "source": [
    "r1 = np.arange(len(Bars_B))\n",
    "r2 = [x + barWidth for x in r1]\n",
    "r3 = [x + barWidth for x in r2]"
   ]
  },
  {
   "cell_type": "code",
   "execution_count": 194,
   "metadata": {
    "scrolled": true
   },
   "outputs": [
    {
     "data": {
      "image/png": "[encoded data removed]",
      "text/plain": [
       "<Figure size 1080x1080 with 1 Axes>"
      ]
     },
     "metadata": {},
     "output_type": "display_data"
    }
   ],
   "source": [
    "plt.figure(figsize=[15,15])\n",
    "\n",
    "plt.bar(r1, Bars_A, width=barWidth, label='Logistic Regression', color ='y')\n",
    "plt.bar(r2, Bars_B, width=barWidth, label='Random Forest',color ='r')\n",
    "plt.bar(r3, Bars_C, width=barWidth, label='Gradient Boost',color ='g')\n",
    "\n",
    "plt.xticks([r + barWidth for r in range(len(Bars_B))], ['Precision', 'Recall', 'F1'], \n",
    "           fontsize = 20,weight='bold')\n",
    "plt.yticks(fontsize = 20)\n",
    "plt.ylabel('Score', fontsize=20, color='black')\n",
    "plt.legend(shadow = False,loc = 1, fontsize = 20)\n",
    "\n",
    "plt.savefig(\"SUB_Models.png\", bbox_inches='tight')"
   ]
  },
  {
   "cell_type": "code",
   "execution_count": null,
   "metadata": {},
   "outputs": [],
   "source": []
  }
 ],
 "metadata": {
  "kernelspec": {
   "display_name": "Python 3",
   "language": "python",
   "name": "python3"
  },
  "language_info": {
   "codemirror_mode": {
    "name": "ipython",
    "version": 3
   },
   "file_extension": ".py",
   "mimetype": "text/x-python",
   "name": "python",
   "nbconvert_exporter": "python",
   "pygments_lexer": "ipython3",
   "version": "3.8.5"
  }
 },
 "nbformat": 4,
 "nbformat_minor": 2
}
